{
 "cells": [
  {
   "cell_type": "code",
   "execution_count": null,
   "id": "240e9836",
   "metadata": {},
   "outputs": [],
   "source": [
    "import cv2\n",
    "import torch\n",
    "import matplotlib.pyplot as plt\n",
    "import numpy as np\n",
    "\n",
    "from utils.plotting import overlaySegment, countParameters, flow2img\n",
    "from utils.layers import warp, warpImage\n",
    "from utils.encoding import dice_coeff, labelMatrixOneHot"
   ]
  },
  {
   "cell_type": "code",
   "execution_count": null,
   "id": "43e6364a",
   "metadata": {},
   "outputs": [],
   "source": [
    "baseline = cv2.optflow.DualTVL1OpticalFlow_create()"
   ]
  },
  {
   "cell_type": "code",
   "execution_count": null,
   "id": "25282623",
   "metadata": {},
   "outputs": [],
   "source": [
    "img = torch.load('Tests/img.pth') \n",
    "seg = torch.load('Tests/seg.pth')\n",
    "\n",
    "fix = 3; mov = 12;\n",
    "fixed = img[fix:fix+1,:,:].float() /255\n",
    "moving = img[mov:mov+1,:,:].float() /255\n",
    "\n",
    "fixed_seg = seg[fix:fix+1, :,:].long().contiguous()\n",
    "moving_seg = seg[mov:mov+1,:,:].long().contiguous()\n",
    "\n",
    "C,H,W = fixed.shape"
   ]
  },
  {
   "cell_type": "code",
   "execution_count": null,
   "id": "94933624",
   "metadata": {},
   "outputs": [],
   "source": [
    "plt.figure(figsize=(12,8))\n",
    "plt.subplot(231)\n",
    "plt.title(\"Fixed scann\")\n",
    "plt.imshow(fixed.squeeze())\n",
    "plt.subplot(232)\n",
    "plt.title(\"Fixed segmentation\")\n",
    "plt.imshow(fixed_seg.squeeze())\n",
    "plt.subplot(233)\n",
    "plt.title(\"Overlayed for fixed frame\")\n",
    "plt.imshow(overlaySegment(fixed.squeeze(),fixed_seg.squeeze(), False).numpy())\n",
    "plt.subplot(234)\n",
    "plt.title(\"Moving scan\")\n",
    "plt.imshow(moving.squeeze())\n",
    "plt.subplot(235)\n",
    "plt.title(\"Moving segmentation\")\n",
    "plt.imshow(moving_seg.squeeze())\n",
    "plt.subplot(236)\n",
    "plt.title(\"Overlay moving frame\")\n",
    "plt.imshow(overlaySegment(moving.squeeze(),moving_seg.squeeze(),False).numpy())\n",
    "plt.show()"
   ]
  },
  {
   "cell_type": "markdown",
   "id": "e65b03dd",
   "metadata": {},
   "source": [
    "### Check baseline Flow"
   ]
  },
  {
   "cell_type": "code",
   "execution_count": null,
   "id": "2eb62a77",
   "metadata": {},
   "outputs": [],
   "source": [
    "in1 = fixed.view(H,W,1).numpy().astype(np.float32) / 255\n",
    "in2 = moving.view(H,W,1).numpy().astype(np.float32) / 255"
   ]
  },
  {
   "cell_type": "code",
   "execution_count": null,
   "id": "b8d6645f",
   "metadata": {},
   "outputs": [],
   "source": [
    "flow = baseline.calc(in1,in2,None)"
   ]
  },
  {
   "cell_type": "code",
   "execution_count": null,
   "id": "880ae1b9",
   "metadata": {},
   "outputs": [],
   "source": [
    "plt.imshow(flow2img(flow))"
   ]
  },
  {
   "cell_type": "code",
   "execution_count": null,
   "id": "cd2a9de7",
   "metadata": {},
   "outputs": [],
   "source": [
    "torch.from_numpy(flow).view(2,H,W).unsqueeze(0).shape"
   ]
  },
  {
   "cell_type": "code",
   "execution_count": null,
   "id": "36c3afa5",
   "metadata": {},
   "outputs": [],
   "source": [
    "moving_seg.unsqueeze(0).shape"
   ]
  },
  {
   "cell_type": "code",
   "execution_count": null,
   "id": "161d6ead",
   "metadata": {},
   "outputs": [],
   "source": [
    "#warped_seg = warp(moving_seg.float().unsqueeze(0).cuda(), torch.from_numpy(flow).view(2,H,W).unsqueeze(0).cuda()).cpu().to(torch.int64)\n",
    "warped_seg = warpImage(moving_seg.view(1,1,H,W).float(), torch.from_numpy(flow).view(1,2,H,W))"
   ]
  },
  {
   "cell_type": "code",
   "execution_count": null,
   "id": "7c860f9b",
   "metadata": {},
   "outputs": [],
   "source": [
    "warped_seg.shape"
   ]
  },
  {
   "cell_type": "code",
   "execution_count": null,
   "id": "feeab7d4",
   "metadata": {},
   "outputs": [],
   "source": [
    "d0 = dice_coeff(moving_seg,fixed_seg,8)\n",
    "print(d0, d0.mean())"
   ]
  },
  {
   "cell_type": "code",
   "execution_count": null,
   "id": "d0b725d1",
   "metadata": {},
   "outputs": [],
   "source": [
    "d1 = dice_coeff(warped_seg.unsqueeze(0), fixed_seg,8)\n",
    "print(d1, d1.mean())"
   ]
  },
  {
   "cell_type": "code",
   "execution_count": null,
   "id": "df557644",
   "metadata": {},
   "outputs": [],
   "source": [
    "fig = plt.figure(figsize=(10,10))\n",
    "plt.subplot(131)\n",
    "plt.title('Warped')\n",
    "plt.imshow(overlaySegment(fixed.squeeze(),warped_seg.squeeze() ,False).numpy())\n",
    "plt.subplot(132)\n",
    "plt.title('fixed')\n",
    "plt.imshow(overlaySegment(fixed.squeeze(),fixed_seg.squeeze() ,False).numpy())\n",
    "plt.subplot(133)\n",
    "plt.title('moving')\n",
    "plt.imshow(overlaySegment(moving.squeeze(),moving_seg.squeeze(),False).numpy())"
   ]
  },
  {
   "cell_type": "markdown",
   "id": "535a6423",
   "metadata": {},
   "source": [
    "### Verdict\n",
    "- baseline already implemented\n",
    "- sadly not finetunable.\n",
    "- Maybe gridsearch for hyper params, on the validation dataset.\n",
    "- good performance"
   ]
  },
  {
   "cell_type": "code",
   "execution_count": null,
   "id": "61cfc555",
   "metadata": {},
   "outputs": [],
   "source": []
  }
 ],
 "metadata": {
  "kernelspec": {
   "display_name": "Python 3",
   "language": "python",
   "name": "python3"
  },
  "language_info": {
   "codemirror_mode": {
    "name": "ipython",
    "version": 3
   },
   "file_extension": ".py",
   "mimetype": "text/x-python",
   "name": "python",
   "nbconvert_exporter": "python",
   "pygments_lexer": "ipython3",
   "version": "3.8.10"
  }
 },
 "nbformat": 4,
 "nbformat_minor": 5
}
