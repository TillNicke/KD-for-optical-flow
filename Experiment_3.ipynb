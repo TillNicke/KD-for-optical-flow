{
 "cells": [
  {
   "cell_type": "markdown",
   "id": "9c4176db",
   "metadata": {},
   "source": [
    "# Third Experiment\n",
    "In this run, we investigate deep mutual learning in two different settings. \n",
    "\n",
    "1) We use 5 students and train them, like described [here](https://openaccess.thecvf.com/content_cvpr_2018/papers/Zhang_Deep_Mutual_Learning_CVPR_2018_paper.pdf). So we use the direct label loss to evaluate the best performing network and then calculate the loss of the other students accordingly.\n",
    "\n",
    "2) We use 5 different students and combine the previously mentioned setting with MSE teacher loss, where the teacher is FlowNet2"
   ]
  },
  {
   "cell_type": "code",
   "execution_count": 1,
   "id": "7c635453",
   "metadata": {},
   "outputs": [
    {
     "name": "stdout",
     "output_type": "stream",
     "text": [
      "[(<torch.cuda.device object at 0x7fadd3357430>, 'GeForce RTX 2080 Ti')]\n"
     ]
    },
    {
     "data": {
      "text/plain": [
       "device(type='cuda', index=0)"
      ]
     },
     "execution_count": 1,
     "metadata": {},
     "output_type": "execute_result"
    }
   ],
   "source": [
    "import numpy as np\n",
    "import cv2\n",
    "from PIL import Image\n",
    "import os\n",
    "from tqdm import tqdm\n",
    "import matplotlib.pyplot as plt\n",
    "\n",
    "import torch\n",
    "import torch.nn as nn\n",
    "import torch.nn.functional as F\n",
    "from torch.autograd import Variable\n",
    "from math import ceil\n",
    "\n",
    "from utils.preprocessing import preprocessing_flownet, preprocessing_pwc\n",
    "from utils.load_models import load_flownet2, load_pwcnet, init_weights\n",
    "from utils.plotting import flow2img, overlaySegment, showFlow\n",
    "from utils.layers import warp, warpImage\n",
    "from utils.encoding import labelMatrixOneHot, dice_coeff\n",
    "\n",
    "from models.pdd_net.pdd_student import OBELISK2d\n",
    "\n",
    "# Select a GPU for the work\n",
    "os.environ[\"CUDA_VISIBLE_DEVICES\"] = '1'\n",
    "available_gpus = [(torch.cuda.device(i),torch.cuda.get_device_name(i)) for i in range(torch.cuda.device_count())]\n",
    "print(available_gpus)\n",
    "device = torch.device(\"cuda:0\" if torch.cuda.is_available() else \"cpu\")\n",
    "device"
   ]
  },
  {
   "cell_type": "markdown",
   "id": "1959924d",
   "metadata": {},
   "source": [
    "# Data"
   ]
  },
  {
   "cell_type": "code",
   "execution_count": 2,
   "id": "0936749f",
   "metadata": {},
   "outputs": [
    {
     "name": "stdout",
     "output_type": "stream",
     "text": [
      "1135 train examples\n",
      "60 test examples\n"
     ]
    }
   ],
   "source": [
    "imgs = torch.load('data/train_frames.pth')\n",
    "segs = torch.load('data/train_segs.pth')\n",
    "\n",
    "# Go over the segs. Some values are [0,1], but we need [0,2]\n",
    "for i, seg in enumerate(segs):\n",
    "    f_seg = seg[0]\n",
    "    m_seg = seg[1]\n",
    "    if len(torch.where(torch.histc(f_seg) != 0)[0]) == 3 and f_seg.max() <= 2:\n",
    "        segs[i][0] = segs[i][0]*2 \n",
    "    if len(torch.where(torch.histc(m_seg) != 0)[0]) == 3 and m_seg.max() <= 2:\n",
    "        segs[i][1] = segs[i][1]*2 \n",
    "\n",
    "#define a training split \n",
    "torch.manual_seed(42)\n",
    "# Now, we prepare our train & test dataset.\n",
    "train_set = torch.from_numpy(np.random.choice(np.arange(len(imgs)),size=int(len(imgs)*0.95), replace=False))\n",
    "\n",
    "test_set = torch.arange(len(imgs))\n",
    "for idx in train_set:\n",
    "    test_set = test_set[test_set != idx]\n",
    "\n",
    "\n",
    "print(f\"{train_set.shape[0]} train examples\")\n",
    "print(f\"{test_set.shape[0]} test examples\")"
   ]
  },
  {
   "cell_type": "markdown",
   "id": "3ed26856",
   "metadata": {},
   "source": [
    "# Student"
   ]
  },
  {
   "cell_type": "code",
   "execution_count": 3,
   "id": "356270c2",
   "metadata": {},
   "outputs": [],
   "source": [
    "W,H = (150,150)\n",
    "o_m = H//4\n",
    "o_n = W//4\n",
    "ogrid_xy = F.affine_grid(torch.eye(2,3).unsqueeze(0),(1,1,o_m,o_n)).view(1,1,-1,2).cuda()\n",
    "disp_range = 0.25#0.25\n",
    "displacement_width = 15#15#11#17\n",
    "shift_xy = F.affine_grid(disp_range*torch.eye(2,3).unsqueeze(0),(1,1,displacement_width,displacement_width)).view(1,1,-1,2).cuda()\n",
    "\n",
    "grid_size = 32#25#30\n",
    "grid_xy = F.affine_grid(torch.eye(2,3).unsqueeze(0),(1,1,grid_size,grid_size)).view(1,-1,1,2).cuda()\n",
    "\n",
    "\n",
    "def init_weights(m):\n",
    "    if isinstance(m, nn.Linear) or isinstance(m, nn.Conv3d) or isinstance(m, nn.ConvTranspose2d) or isinstance(m, nn.Conv2d) or isinstance(m, nn.Conv1d):\n",
    "        nn.init.xavier_normal(m.weight)\n",
    "        if m.bias is not None:\n",
    "            nn.init.constant(m.bias, 0.0)\n",
    "\n",
    "class OBELISK2d(nn.Module):\n",
    "    def __init__(self, chan = 16):\n",
    "\n",
    "        super(OBELISK2d, self).__init__()\n",
    "        channels = chan\n",
    "        self.offsets = nn.Parameter(torch.randn(2,channels *2,2) *0.05)\n",
    "        self.layer0 = nn.Conv2d(1, 4, 5, stride=2, bias=False, padding=2)\n",
    "        self.batch0 = nn.BatchNorm2d(4)\n",
    "\n",
    "        self.layer1 = nn.Conv2d(channels *8, channels *4, 1, bias=False, groups=1)\n",
    "        self.batch1 = nn.BatchNorm2d(channels *4)\n",
    "        self.layer2 = nn.Conv2d(channels *4, channels *4, 3, bias=False, padding=1)\n",
    "        self.batch2 = nn.BatchNorm2d(channels *4)\n",
    "        self.layer3 = nn.Conv2d(channels *4, channels *1, 1)\n",
    "        \n",
    "\n",
    "    def forward(self, input_img):\n",
    "        img_in = F.avg_pool2d(input_img ,3 ,padding=1 ,stride=2)\n",
    "        img_in = F.relu(self.batch0(self.layer0(img_in)))\n",
    "        sampled = F.grid_sample(img_in ,ogrid_xy + self.offsets[0 ,:,:].view(1 ,-1 ,1 ,2)).view(1 ,-1 ,o_m ,o_n)\n",
    "        sampled -= F.grid_sample(img_in ,ogrid_xy + self.offsets[1 ,:,:].view(1 ,-1 ,1 ,2)).view(1 ,-1 ,o_m ,o_n)\n",
    "\n",
    "        x = F.relu(self.batch1(self.layer1(sampled)))\n",
    "        x = F.relu(self.batch2(self.layer2(x)))\n",
    "        features = self.layer3(x)\n",
    "        return features"
   ]
  },
  {
   "cell_type": "code",
   "execution_count": 4,
   "id": "f45edc14",
   "metadata": {},
   "outputs": [],
   "source": [
    "def min_convolution(ssd_distance, displace_range, H, W):\n",
    "    # Prepare operators for smooth dense displacement space\n",
    "    pad1 = nn.ReplicationPad2d(5)\n",
    "    avg1 = nn.AvgPool2d(5,stride=1)\n",
    "    max1 = nn.MaxPool2d(3,stride=1)\n",
    "    pad2 = nn.ReplicationPad2d(6)\n",
    "    # approximate min convolution / displacement compatibility\n",
    "\n",
    "    ssd_minconv = avg1(avg1(-max1(-pad1(ssd_distance.permute(0,2,3,1).reshape(1,-1,displace_range,displace_range)))))\n",
    "\n",
    "    ssd_minconv = ssd_minconv.permute(0,2,3,1).view(1,-1,H,W)\n",
    "    min_conv_cost = avg1(avg1(avg1(pad2(ssd_minconv))))\n",
    "    \n",
    "    return min_conv_cost\n",
    "\n",
    "def meanfield(ssd_distance,img_fixed,displace_range,H,W):\n",
    "\n",
    "    crnt_dev = ssd_distance.device\n",
    "\n",
    "    cost = min_convolution(ssd_distance, displace_range, H, W)\n",
    "\n",
    "    soft_cost = F.softmax(-10*cost.view(displace_range**2,-1).t(),1)\n",
    "    \n",
    "    disp_hw = (displace_range-1)//2\n",
    "    disp_mesh_grid = disp_hw*F.affine_grid(torch.eye(2,3).unsqueeze(0),(1,1,displace_range,displace_range),align_corners=True)\n",
    "    disp_mesh_grid /= torch.Tensor([(W-1)*.5,(H-1)*.5])\n",
    "\n",
    "    disp_xy = torch.sum(soft_cost.view(1,H,W,-1,1)*disp_mesh_grid.view(1,1,1,-1,2).to(crnt_dev),3).permute(0,3,1,2) \n",
    "    \n",
    "\n",
    "    return soft_cost,disp_xy\n",
    "\n",
    "def correlation_layer(displace_range, feat_moving, feat_fixed):\n",
    "    \n",
    "    disp_hw = (displace_range-1)//2\n",
    "    feat_moving_unfold = F.unfold(feat_moving.transpose(1,0),(displace_range,displace_range),padding=disp_hw)\n",
    "    B,C,H,W = feat_fixed.size()\n",
    "    \n",
    "    ssd_distance = ((feat_moving_unfold-feat_fixed.view(C,1,-1))**2).sum(0).view(1,displace_range**2,H,W)\n",
    "\n",
    "    return ssd_distance"
   ]
  },
  {
   "cell_type": "markdown",
   "id": "cbf8cd50",
   "metadata": {},
   "source": [
    "# Teacher"
   ]
  },
  {
   "cell_type": "code",
   "execution_count": 5,
   "id": "110d469e",
   "metadata": {},
   "outputs": [],
   "source": [
    "#flownet = load_flownet2().cuda()"
   ]
  },
  {
   "cell_type": "markdown",
   "id": "28e85c4e",
   "metadata": {},
   "source": [
    "# Eval function"
   ]
  },
  {
   "cell_type": "code",
   "execution_count": 6,
   "id": "68c44277",
   "metadata": {},
   "outputs": [],
   "source": [
    "def evaluate_model(model):\n",
    "    model.eval()\n",
    "    overall_dice = []\n",
    "    unwarped_dice = []\n",
    "    \n",
    "    for i,idx in enumerate(test_set):\n",
    "        \n",
    "        fixed = imgs[idx:idx+1,0,:].unsqueeze(0).float()\n",
    "        moving = imgs[idx:idx+1,1,:].unsqueeze(0).float()\n",
    "\n",
    "        fixed_seg = segs[idx:idx+1,0,:].long().contiguous()\n",
    "        moving_seg = segs[idx:idx+1,1,:].long().contiguous()\n",
    "        \n",
    "        # Some images have no segmentation to them, \n",
    "        # even if it was present in the directory\n",
    "        # We leave these ones out, as they cannot be avaluated\n",
    "        if fixed_seg.max() < 0.1 and moving_seg.max() < 0.1:\n",
    "            pass\n",
    "        else:\n",
    "        \n",
    "            with torch.no_grad():\n",
    "                fixed_feat = model(fixed.cuda())\n",
    "                moving_feat = model(moving.cuda())\n",
    "\n",
    "            ssd_distance = correlation_layer(displace_range, moving_feat, fixed_feat).contiguous()\n",
    "            #regularise using meanfield inference with approx. min-convolutions\n",
    "            soft_cost_one,disp_xy = meanfield(ssd_distance, fixed, displace_range, H//4, W//4)\n",
    "            #upsample field to original resolution\n",
    "            dense_flow_fit = F.interpolate(disp_xy,size=(H,W),mode='bicubic')\n",
    "\n",
    "\n",
    "            #apply and evaluate transformation\n",
    "            identity = F.affine_grid(torch.eye(2,3).unsqueeze(0),(1,1,H,W),align_corners=False).cuda()\n",
    "            warped_student_seg = F.grid_sample(moving_seg.cuda().float().unsqueeze(1),identity+dense_flow_fit.permute(0,2,3,1),mode='nearest',align_corners=False).cpu()\n",
    "\n",
    "            d1 = dice_coeff(fixed_seg,warped_student_seg.squeeze(),3)\n",
    "            d2 = dice_coeff(fixed_seg, moving_seg, 3)\n",
    "            \n",
    "            overall_dice.append(d1.mean())\n",
    "            unwarped_dice.append(d2.mean())\n",
    "    \n",
    "    overall_dice = torch.from_numpy(np.array(overall_dice))\n",
    "    unwarped_dice = torch.from_numpy(np.array(unwarped_dice))\n",
    "    \n",
    "    print(f\"This model has an average Dice of {round(overall_dice.mean().item(), 5)} mit Variance: {round(overall_dice.var().item(), 5)}. The unwarped Mean dice is: {round(unwarped_dice.mean().item(), 5)} with Var {round(unwarped_dice.var().item(),5)}\")"
   ]
  },
  {
   "cell_type": "markdown",
   "id": "96f3b236",
   "metadata": {},
   "source": [
    "# Setting Parameters"
   ]
  },
  {
   "cell_type": "code",
   "execution_count": 7,
   "id": "de00f34b",
   "metadata": {},
   "outputs": [],
   "source": [
    "disp_hw = 5\n",
    "displace_range = 11\n",
    "\n",
    "epochs = 100\n",
    "lr = 0.0002\n",
    "# minibatch training\n",
    "grad_accum = 4"
   ]
  },
  {
   "cell_type": "markdown",
   "id": "5ce9c279",
   "metadata": {},
   "source": [
    "# Experiment 3.1\n",
    "Deep mutual learning with label loss"
   ]
  },
  {
   "cell_type": "code",
   "execution_count": 8,
   "id": "ad5170d3",
   "metadata": {},
   "outputs": [],
   "source": [
    "num_students = 5\n",
    "students = []#torch.zeros(num_students, dtype=torch.nn.Module)#torch.zeros(num_students)\n",
    "optims = []#torch.zeros(num_students)\n",
    "\n",
    "for i in range(num_students):\n",
    "    student = OBELISK2d(24)\n",
    "    init_weights(student)\n",
    "    student.train().cuda()\n",
    "    \n",
    "    optimizer = torch.optim.Adam(list(student.parameters()),lr=lr)\n",
    "    \n",
    "    students.append(student)\n",
    "    optims.append(optimizer)\n",
    "loss_array = torch.from_numpy(np.array([[0 for x in range(epochs)] for i in range(num_students)])).float()"
   ]
  },
  {
   "cell_type": "code",
   "execution_count": 9,
   "id": "f9f61446",
   "metadata": {},
   "outputs": [
    {
     "name": "stderr",
     "output_type": "stream",
     "text": [
      "100%|██████████| 100/100 [1:17:16<00:00, 46.36s/it]\n"
     ]
    }
   ],
   "source": [
    "for epoch in tqdm(range(epochs)):\n",
    "    # Shuffle training examples\n",
    "    rnd_train_idx = torch.randperm(train_set.size(0))\n",
    "\n",
    "    # show all examples to model\n",
    "    for rnd_idx in rnd_train_idx:\n",
    "        \n",
    "        p_fix = train_set[rnd_idx]\n",
    "\n",
    "        # Get image and segmentation\n",
    "        fixed = imgs[p_fix:p_fix+1,0,:].unsqueeze(0).float()\n",
    "        moving = imgs[p_fix:p_fix+1,1,:].unsqueeze(0).float()\n",
    "\n",
    "        fixed_seg = segs[p_fix:p_fix+1,0,:].long().contiguous()\n",
    "        moving_seg = segs[p_fix:p_fix+1,1,:].long().contiguous()\n",
    "        \n",
    "        # Label preparation\n",
    "        C1,Hf,Wf = moving_seg.size()\n",
    "        label_moving = F.one_hot(moving_seg,num_classes=3).permute(0,3,1,2).float()\n",
    "        label_moving = F.interpolate(label_moving,size=(Hf//4,Wf//4),mode='bilinear')\n",
    "        label_fixed = F.one_hot(fixed_seg,num_classes=3).permute(0,3,1,2).float()\n",
    "        label_fixed = F.interpolate(label_fixed,size=(Hf//4,Wf//4),mode='bilinear')\n",
    "        # generate the \"unfolded\" version of the moving encoding that will result in the shifted versions per channel\n",
    "        # according to the corresponding discrete displacement pair\n",
    "        label_moving_unfold = F.unfold(label_moving,(displace_range,displace_range),padding=disp_hw).view(1,3,displace_range**2,-1).cuda()\n",
    "    \n",
    "        outputs = []\n",
    "        warped_labels = []\n",
    "        fixed = Variable(fixed.cuda())\n",
    "        moving = Variable(moving.cuda())\n",
    "        \n",
    "        # Forward pass\n",
    "        for stud in students:\n",
    "            \n",
    "            feat_fixed = stud(fixed)\n",
    "            feat_moving = stud(moving)\n",
    "\n",
    "            ssd_distance = correlation_layer(displace_range, feat_moving, feat_fixed)\n",
    "            soft_cost,disp_xy = meanfield(ssd_distance, fixed, displace_range, H//4, W//4)\n",
    "            \n",
    "            # append the output\n",
    "            outputs.append([soft_cost, disp_xy])\n",
    "            \n",
    "            label_warped = torch.sum(soft_cost.t().unsqueeze(0)*label_moving_unfold.squeeze(0),1)\n",
    "            \n",
    "            # store the warped prediction of the student\n",
    "            warped_labels.append(label_warped.cpu())\n",
    "        \n",
    "        # Backward pass\n",
    "        for idx, stud in enumerate(students):\n",
    "            \n",
    "            # calculate the individual label loss\n",
    "            label_distance1 = torch.sum(torch.pow(label_fixed.reshape(3,-1)-warped_labels[idx].reshape(3,-1),2),0)\n",
    "            \n",
    "            loss_between_students = 0\n",
    "            for run_idx in range(num_students):\n",
    "                if idx != run_idx:\n",
    "                    pred = Variable(warped_labels[run_idx])\n",
    "                    # cauculate the loss between students\n",
    "                    loss_between_students += torch.sum(torch.pow(label_distance1 - pred, 2),0)\n",
    "                    del(pred)\n",
    "            \n",
    "            loss = label_distance1.mean() + loss_between_students.mean() / (num_students)\n",
    "            loss.backward()\n",
    "            loss_array[idx][epoch] += loss.item()\n",
    "\n",
    "        if (epoch+1)%grad_accum == 0:\n",
    "            for optim in optims:\n",
    "                optim.step()\n",
    "                optim.zero_grad()\n",
    "        \n",
    "    #if (epoch+1)%10 ==0:\n",
    "    #    print(f\"Epoche: {epoch+1}\")\n",
    "    #    for i in range(num_studs):\n",
    "    #        print(f\"Loss of Student {i} : {loss_array[i][epoch-4:epoch].mean()}\")"
   ]
  },
  {
   "cell_type": "code",
   "execution_count": 10,
   "id": "d403e0dc",
   "metadata": {},
   "outputs": [
    {
     "data": {
      "image/png": "[encoded data removed]",
      "text/plain": [
       "<Figure size 432x288 with 1 Axes>"
      ]
     },
     "metadata": {
      "needs_background": "light"
     },
     "output_type": "display_data"
    }
   ],
   "source": [
    "fig = plt.figure()\n",
    "for i in range(num_students):\n",
    "    plt.plot(loss_array[i])\n",
    "plt.savefig(\"dml_convergence_3_1_100Epochs.png\")"
   ]
  },
  {
   "cell_type": "code",
   "execution_count": 11,
   "id": "9a769a50",
   "metadata": {},
   "outputs": [
    {
     "name": "stdout",
     "output_type": "stream",
     "text": [
      "This model has an average Dice of 0.6855 mit Variance: 0.06689. The unwarped Mean dice is: 0.64426 with Var 0.0769\n",
      "This model has an average Dice of 0.69626 mit Variance: 0.07129. The unwarped Mean dice is: 0.64426 with Var 0.0769\n",
      "This model has an average Dice of 0.69687 mit Variance: 0.06602. The unwarped Mean dice is: 0.64426 with Var 0.0769\n",
      "This model has an average Dice of 0.69827 mit Variance: 0.07016. The unwarped Mean dice is: 0.64426 with Var 0.0769\n",
      "This model has an average Dice of 0.69953 mit Variance: 0.06632. The unwarped Mean dice is: 0.64426 with Var 0.0769\n"
     ]
    }
   ],
   "source": [
    "for i in range(num_students):\n",
    "    evaluate_model(students[i])"
   ]
  },
  {
   "cell_type": "code",
   "execution_count": 15,
   "id": "8f872364",
   "metadata": {},
   "outputs": [],
   "source": [
    "for i in range(num_students):\n",
    "    torch.save(students[i].state_dict(), f\"student_{i}_dml_3_1_second.pth\")"
   ]
  },
  {
   "cell_type": "code",
   "execution_count": 16,
   "id": "ae27a903",
   "metadata": {},
   "outputs": [],
   "source": [
    "num_students = 5\n",
    "students = []#torch.zeros(num_students, dtype=torch.nn.Module)#torch.zeros(num_students)\n",
    "optims = []#torch.zeros(num_students)\n",
    "\n",
    "for i in range(num_students):\n",
    "    student = OBELISK2d(24)\n",
    "    init_weights(student)\n",
    "    student.train().cuda()\n",
    "    \n",
    "    optimizer = torch.optim.Adam(list(student.parameters()),lr=lr)\n",
    "    \n",
    "    students.append(student)\n",
    "    optims.append(optimizer)\n",
    "    \n",
    "loss_array = torch.from_numpy(np.array([[0 for x in range(epochs)] for i in range(num_students)])).float()"
   ]
  },
  {
   "cell_type": "code",
   "execution_count": 18,
   "id": "7810d591",
   "metadata": {},
   "outputs": [
    {
     "name": "stderr",
     "output_type": "stream",
     "text": [
      "100%|██████████| 100/100 [1:30:04<00:00, 54.05s/it]\n"
     ]
    }
   ],
   "source": [
    "for epoch in tqdm(range(epochs)):\n",
    "    # Shuffle training examples\n",
    "    rnd_train_idx = torch.randperm(train_set.size(0))\n",
    "\n",
    "    # show all examples to model\n",
    "    for rnd_idx in rnd_train_idx:\n",
    "        \n",
    "        p_fix = train_set[rnd_idx]\n",
    "\n",
    "        # Get image and segmentation\n",
    "        fixed = imgs[p_fix:p_fix+1,0,:].unsqueeze(0).float()\n",
    "        moving = imgs[p_fix:p_fix+1,1,:].unsqueeze(0).float()\n",
    "\n",
    "        fixed_seg = segs[p_fix:p_fix+1,0,:].long().contiguous()\n",
    "        moving_seg = segs[p_fix:p_fix+1,1,:].long().contiguous()\n",
    "        \n",
    "        # Label preparation\n",
    "        C1,Hf,Wf = moving_seg.size()\n",
    "        label_moving = F.one_hot(moving_seg,num_classes=3).permute(0,3,1,2).float()\n",
    "        label_moving = F.interpolate(label_moving,size=(Hf//4,Wf//4),mode='bilinear')\n",
    "        label_fixed = F.one_hot(fixed_seg,num_classes=3).permute(0,3,1,2).float()\n",
    "        label_fixed = F.interpolate(label_fixed,size=(Hf//4,Wf//4),mode='bilinear')\n",
    "        # generate the \"unfolded\" version of the moving encoding that will result in the shifted versions per channel\n",
    "        # according to the corresponding discrete displacement pair\n",
    "        label_moving_unfold = F.unfold(label_moving,(displace_range,displace_range),padding=disp_hw).view(1,3,displace_range**2,-1).cuda()\n",
    "    \n",
    "        outputs = []\n",
    "        warped_labels = []\n",
    "        fixed = Variable(fixed.cuda())\n",
    "        moving = Variable(moving.cuda())\n",
    "        \n",
    "        # Forward pass\n",
    "        for stud in students:\n",
    "            \n",
    "            feat_fixed = stud(fixed)\n",
    "            feat_moving = stud(moving)\n",
    "\n",
    "            ssd_distance = correlation_layer(displace_range, feat_moving, feat_fixed)\n",
    "            soft_cost,disp_xy = meanfield(ssd_distance, fixed, displace_range, H//4, W//4)\n",
    "            \n",
    "            # append the output\n",
    "            outputs.append([soft_cost, disp_xy])\n",
    "            \n",
    "            label_warped = torch.sum(soft_cost.t().unsqueeze(0)*label_moving_unfold.squeeze(0),1)\n",
    "            \n",
    "            # store the warped prediction of the student\n",
    "            warped_labels.append(label_warped.cpu())\n",
    "        \n",
    "        # Backward pass\n",
    "        for idx, stud in enumerate(students):\n",
    "            \n",
    "            # calculate the individual label loss\n",
    "            label_distance1 = torch.sum(torch.pow(label_fixed.reshape(3,-1)-warped_labels[idx].reshape(3,-1),2),0)\n",
    "            \n",
    "            loss_between_students = 0\n",
    "            for run_idx in range(num_students):\n",
    "                if idx != run_idx:\n",
    "                    pred = Variable(outputs[run_idx][1])\n",
    "                    # cauculate the loss between students\n",
    "                    loss_between_students += torch.sum(torch.pow(outputs[idx][1] - pred, 2))\n",
    "                    del(pred)\n",
    "            \n",
    "            loss = label_distance1.mean() + loss_between_students.mean() / (num_students)\n",
    "            loss.backward()\n",
    "            loss_array[idx][epoch] += loss.item()\n",
    "\n",
    "        if (epoch+1)%grad_accum == 0:\n",
    "            for optim in optims:\n",
    "                optim.step()\n",
    "                optim.zero_grad()"
   ]
  },
  {
   "cell_type": "code",
   "execution_count": 19,
   "id": "8fada119",
   "metadata": {},
   "outputs": [
    {
     "data": {
      "image/png": "[encoded data removed]",
      "text/plain": [
       "<Figure size 432x288 with 1 Axes>"
      ]
     },
     "metadata": {
      "needs_background": "light"
     },
     "output_type": "display_data"
    }
   ],
   "source": [
    "fig = plt.figure()\n",
    "for i in range(num_students):\n",
    "    plt.plot(loss_array[i])\n",
    "plt.savefig(\"dml_convergence_3_2_100Epochs.png\")"
   ]
  },
  {
   "cell_type": "code",
   "execution_count": 20,
   "id": "22eda49f",
   "metadata": {},
   "outputs": [
    {
     "name": "stdout",
     "output_type": "stream",
     "text": [
      "This model has an average Dice of 0.67598 mit Variance: 0.0635. The unwarped Mean dice is: 0.64426 with Var 0.0769\n",
      "This model has an average Dice of 0.67583 mit Variance: 0.06386. The unwarped Mean dice is: 0.64426 with Var 0.0769\n",
      "This model has an average Dice of 0.67664 mit Variance: 0.06319. The unwarped Mean dice is: 0.64426 with Var 0.0769\n",
      "This model has an average Dice of 0.67507 mit Variance: 0.06376. The unwarped Mean dice is: 0.64426 with Var 0.0769\n",
      "This model has an average Dice of 0.67657 mit Variance: 0.06351. The unwarped Mean dice is: 0.64426 with Var 0.0769\n"
     ]
    }
   ],
   "source": [
    "for i in range(num_students):\n",
    "    evaluate_model(students[i])"
   ]
  },
  {
   "cell_type": "code",
   "execution_count": 21,
   "id": "530a4f7d",
   "metadata": {},
   "outputs": [],
   "source": [
    "for i in range(num_students):\n",
    "    torch.save(students[i].state_dict(), f\"student_{i}_dml_3_2.pth\")"
   ]
  },
  {
   "cell_type": "code",
   "execution_count": null,
   "id": "5c0f3431",
   "metadata": {},
   "outputs": [],
   "source": [
    "import IPython\n",
    "IPython.Application.instance().kernel.do_shutdown(True)"
   ]
  },
  {
   "cell_type": "code",
   "execution_count": null,
   "id": "1f10c3c9",
   "metadata": {},
   "outputs": [],
   "source": []
  }
 ],
 "metadata": {
  "kernelspec": {
   "display_name": "Python 3",
   "language": "python",
   "name": "python3"
  },
  "language_info": {
   "codemirror_mode": {
    "name": "ipython",
    "version": 3
   },
   "file_extension": ".py",
   "mimetype": "text/x-python",
   "name": "python",
   "nbconvert_exporter": "python",
   "pygments_lexer": "ipython3",
   "version": "3.8.10"
  }
 },
 "nbformat": 4,
 "nbformat_minor": 5
}
