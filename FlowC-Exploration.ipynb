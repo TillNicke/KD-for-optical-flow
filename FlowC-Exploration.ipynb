{
 "cells": [
  {
   "cell_type": "code",
   "execution_count": 1,
   "id": "3358acc2",
   "metadata": {},
   "outputs": [],
   "source": [
    "from models.flownet2.networks.FlowNetC import FlowNetC\n",
    "from models.flownet2.utils import tools\n",
    "from models.flownet2 import models, losses\n",
    "\n",
    "from utils.preprocessing import preprocessing_flownet, preprocessing_pwc\n",
    "\n",
    "import torch\n",
    "import argparse\n"
   ]
  },
  {
   "cell_type": "code",
   "execution_count": 2,
   "id": "bd7b617e",
   "metadata": {},
   "outputs": [],
   "source": [
    "parser = argparse.ArgumentParser()\n",
    "\n",
    "parser.add_argument('--start_epoch', type=int, default=1)\n",
    "parser.add_argument('--total_epochs', type=int, default=10000)\n",
    "parser.add_argument('--batch_size', '-b', type=int, default=8, help=\"Batch size\")\n",
    "parser.add_argument('--train_n_batches', type=int, default=-1,\n",
    "                    help='Number of min-batches per epoch. If < 0, it will be determined by training_dataloader')\n",
    "parser.add_argument('--crop_size', type=int, nargs='+', default=[256, 256],\n",
    "                    help=\"Spatial dimension to crop training samples for training\")\n",
    "parser.add_argument('--gradient_clip', type=float, default=None)\n",
    "parser.add_argument('--schedule_lr_frequency', type=int, default=0, help='in number of iterations (0 for no schedule)')\n",
    "parser.add_argument('--schedule_lr_fraction', type=float, default=10)\n",
    "parser.add_argument(\"--rgb_max\", type=float, default=255.)\n",
    "\n",
    "parser.add_argument('--number_workers', '-nw', '--num_workers', type=int, default=8)\n",
    "parser.add_argument('--number_gpus', '-ng', type=int, default=-1, help='number of GPUs to use')\n",
    "parser.add_argument('--no_cuda', action='store_true')\n",
    "\n",
    "parser.add_argument('--seed', type=int, default=1)\n",
    "parser.add_argument('--name', default='run', type=str, help='a name to append to the save directory')\n",
    "parser.add_argument('--save', '-s', default='./work', type=str, help='directory for saving')\n",
    "\n",
    "parser.add_argument('--validation_frequency', type=int, default=5, help='validate every n epochs')\n",
    "parser.add_argument('--validation_n_batches', type=int, default=-1)\n",
    "parser.add_argument('--render_validation', action='store_true',\n",
    "                    help='run inference (save flows to file) and every validation_frequency epoch')\n",
    "\n",
    "parser.add_argument('--inference', action='store_true')\n",
    "parser.add_argument('--inference_visualize', action='store_true',\n",
    "                    help=\"visualize the optical flow during inference\")\n",
    "parser.add_argument('--inference_size', type=int, nargs='+', default=[-1, -1],\n",
    "                    help='spatial size divisible by 64. default (-1,-1) - largest possible valid size would be used')\n",
    "parser.add_argument('--inference_batch_size', type=int, default=1)\n",
    "parser.add_argument('--inference_n_batches', type=int, default=-1)\n",
    "parser.add_argument('--save_flow', action='store_true', help='save predicted flows to file')\n",
    "\n",
    "parser.add_argument('--resume', default='', type=str, metavar='PATH', help='path to latest checkpoint (default: none)')\n",
    "parser.add_argument('--log_frequency', '--summ_iter', type=int, default=1, help=\"Log every n batches\")\n",
    "\n",
    "parser.add_argument('--skip_training', action='store_true')\n",
    "parser.add_argument('--skip_validation', action='store_true')\n",
    "\n",
    "parser.add_argument('--fp16', action='store_true', help='Run model in pseudo-fp16 mode (fp16 storage fp32 math).')\n",
    "parser.add_argument('--fp16_scale', type=float, default=1024.,\n",
    "                    help='Loss scaling, positive power of 2 values can improve fp16 convergence.')\n",
    "\n",
    "tools.add_arguments_for_module(parser, models, argument_for_class='model', default='FlowNet2')\n",
    "\n",
    "tools.add_arguments_for_module(parser, losses, argument_for_class='loss', default='L1Loss')\n",
    "\n",
    "tools.add_arguments_for_module(parser, torch.optim, argument_for_class='optimizer', default='Adam', skip_params=['params'])\n",
    "\n",
    "args, unknown = parser.parse_known_args()\n"
   ]
  },
  {
   "cell_type": "code",
   "execution_count": 3,
   "id": "bcfe2a23",
   "metadata": {},
   "outputs": [
    {
     "name": "stdout",
     "output_type": "stream",
     "text": [
      "odict_keys(['conv1.0.weight', 'conv1.0.bias', 'conv2.0.weight', 'conv2.0.bias', 'conv3.0.weight', 'conv3.0.bias', 'conv_redir.0.weight', 'conv_redir.0.bias', 'conv3_1.0.weight', 'conv3_1.0.bias', 'conv4.0.weight', 'conv4.0.bias', 'conv4_1.0.weight', 'conv4_1.0.bias', 'conv5.0.weight', 'conv5.0.bias', 'conv5_1.0.weight', 'conv5_1.0.bias', 'conv6.0.weight', 'conv6.0.bias', 'conv6_1.0.weight', 'conv6_1.0.bias', 'deconv5.0.weight', 'deconv5.0.bias', 'deconv4.0.weight', 'deconv4.0.bias', 'deconv3.0.weight', 'deconv3.0.bias', 'deconv2.0.weight', 'deconv2.0.bias', 'predict_flow6.weight', 'predict_flow6.bias', 'predict_flow5.weight', 'predict_flow5.bias', 'predict_flow4.weight', 'predict_flow4.bias', 'predict_flow3.weight', 'predict_flow3.bias', 'predict_flow2.weight', 'predict_flow2.bias', 'upsampled_flow6_to_5.weight', 'upsampled_flow6_to_5.bias', 'upsampled_flow5_to_4.weight', 'upsampled_flow5_to_4.bias', 'upsampled_flow4_to_3.weight', 'upsampled_flow4_to_3.bias', 'upsampled_flow3_to_2.weight', 'upsampled_flow3_to_2.bias'])\n"
     ]
    }
   ],
   "source": [
    "flowC = FlowNetC(args).cuda()\n",
    "flowC.eval()\n",
    "print(torch.load(\"models/flownet2/weights/FlowNet2-C_checkpoint.pth.tar\")['state_dict'].keys())\n",
    "#flowC.load_state_dict(torch.load(\"models/flownet2/weights/FlowNet2-C_checkpoint.pth.tar\")['state_dict'])"
   ]
  },
  {
   "cell_type": "code",
   "execution_count": 4,
   "id": "ba368130",
   "metadata": {},
   "outputs": [],
   "source": [
    "imgs = torch.load('Data/img.pth')\n",
    "segs = torch.load('Data/seg.pth')\n",
    "\n",
    "fix = 6; mov=3\n",
    "fixed = imgs[fix:fix+1,:,:].float() /255\n",
    "moving = imgs[mov:mov+1,:,:].float() /255\n",
    "\n",
    "fixed_seg = segs[fix:fix+1, :,:].float().contiguous()\n",
    "moving_seg = segs[mov:mov+1,:,:].float().contiguous()\n",
    "\n",
    "#fixed = F.interpolate(fixed.unsqueeze(0), size=(100,100)).view(1,100,100)\n",
    "#moving = F.interpolate(moving.unsqueeze(0), size=(100,100)).view(1,100,100)\n",
    "\n",
    "#fixed_seg = F.interpolate(fixed_seg.unsqueeze(0), size=(100,100)).view(1,100,100)\n",
    "#moving_seg = F.interpolate(moving_seg.unsqueeze(0), size=(100,100)).view(1,100,100)\n",
    "\n",
    "C,h,w = fixed.shape"
   ]
  },
  {
   "cell_type": "code",
   "execution_count": 7,
   "id": "769b4b9e",
   "metadata": {},
   "outputs": [],
   "source": [
    "flow_in = preprocessing_flownet(fixed.reshape(h,w,C),moving.reshape(h,w,C))#.cuda()\n",
    "flowC_in = preprocessing_pwc(fixed.reshape(h,w,C),moving.reshape(h,w,C)).cuda()"
   ]
  },
  {
   "cell_type": "code",
   "execution_count": 8,
   "id": "cf8faace",
   "metadata": {},
   "outputs": [
    {
     "name": "stdout",
     "output_type": "stream",
     "text": [
      "-------------------------------------------------------  ------------  ------------  ------------  ------------  ------------  ------------  ------------  ------------  ------------  ------------  ------------  \n",
      "                                                   Name    Self CPU %      Self CPU   CPU total %     CPU total  CPU time avg     Self CUDA   Self CUDA %    CUDA total  CUDA time avg    # of Calls        TFLOPS  \n",
      "-------------------------------------------------------  ------------  ------------  ------------  ------------  ------------  ------------  ------------  ------------  ------------  ------------  ------------  \n",
      "                                aten::cudnn_convolution         0.54%       9.684ms        99.43%        1.775s      93.400ms       3.937ms        80.48%       3.937ms     207.211us            19            --  \n",
      "                   volta_scudnn_128x64_relu_small_nn_v1         0.00%       0.000us         0.00%       0.000us       0.000us       3.578ms        73.14%       3.578ms     894.500us             4            --  \n",
      "                                 aten::cudnn_batch_norm         0.13%       2.298ms         0.16%       2.878ms     205.571us     349.000us         7.13%     349.000us      24.929us            14            --  \n",
      "void cudnn::detail::bn_fw_inf_1C11_kernel_NCHW<float...         0.00%       0.000us         0.00%       0.000us       0.000us     349.000us         7.13%     349.000us      58.167us             6            --  \n",
      "                  volta_scudnn_128x64_relu_medium_nn_v1         0.00%       0.000us         0.00%       0.000us       0.000us     346.000us         7.07%     346.000us     173.000us             2            --  \n",
      "                                       aten::leaky_relu         0.09%       1.565ms         0.10%       1.746ms      91.895us     327.000us         6.68%     327.000us      17.211us            19            --  \n",
      "void at::native::vectorized_elementwise_kernel<4, at...         0.00%       0.000us         0.00%       0.000us       0.000us     327.000us         6.68%     327.000us      54.500us             6            --  \n",
      "                                    CorrelationFunction         0.01%      96.000us         0.01%     180.000us     180.000us     158.000us         3.23%     279.000us     279.000us             1            --  \n",
      "void channels_first<float>(float const*, float*, int...         0.00%       0.000us         0.00%       0.000us       0.000us     158.000us         3.23%     158.000us      79.000us             2            --  \n",
      "                                            aten::fill_         0.00%      30.000us         0.00%      47.000us      15.667us     121.000us         2.47%     121.000us      40.333us             3            --  \n",
      "void at::native::vectorized_elementwise_kernel<4, at...         0.00%       0.000us         0.00%       0.000us       0.000us     121.000us         2.47%     121.000us      40.333us             3            --  \n",
      "cudnn::gemm::computeOffsetsKernel(cudnn::gemm::Compu...         0.00%       0.000us         0.00%       0.000us       0.000us       8.000us         0.16%       8.000us       1.333us             6            --  \n",
      "                                        Memset (Device)         0.00%       0.000us         0.00%       0.000us       0.000us       4.000us         0.08%       4.000us       1.000us             4            --  \n",
      "                       Memcpy HtoD (Pageable -> Device)         0.00%       0.000us         0.00%       0.000us       0.000us       1.000us         0.02%       1.000us       1.000us             1            --  \n",
      "                                            aten::slice         0.01%     137.000us         0.01%     172.000us      21.500us       0.000us         0.00%       0.000us       0.000us             8            --  \n",
      "                                       aten::as_strided         0.00%      35.000us         0.00%      35.000us       4.375us       0.000us         0.00%       0.000us       0.000us             8            --  \n",
      "                                           aten::conv2d         0.01%     207.000us        99.52%        1.776s      93.491ms       0.000us         0.00%       3.937ms     207.211us            19         3.968  \n",
      "                                      aten::convolution         0.01%     233.000us        99.64%        1.778s      65.869ms       0.000us         0.00%       3.937ms     145.815us            27            --  \n",
      "                                     aten::_convolution         0.01%     255.000us        99.63%        1.778s      65.860ms       0.000us         0.00%       3.937ms     145.815us            27            --  \n",
      "                                          aten::resize_         0.01%     103.000us         0.01%     200.000us       3.226us       0.000us         0.00%       0.000us       0.000us            62            --  \n",
      "                                     cudaGetDeviceCount         0.00%       0.000us         0.00%       0.000us       0.000us       0.000us         0.00%       0.000us       0.000us             1            --  \n",
      "                                 cudaDeviceGetAttribute         0.00%       2.000us         0.00%       2.000us       0.069us       0.000us         0.00%       0.000us       0.000us            29            --  \n",
      "                              cudaStreamCreateWithFlags         0.02%     422.000us         0.02%     422.000us      52.750us       0.000us         0.00%       0.000us       0.000us             8            --  \n",
      "                       cudaDeviceGetStreamPriorityRange         0.00%       0.000us         0.00%       0.000us       0.000us       0.000us         0.00%       0.000us       0.000us             1            --  \n",
      "                           cudaStreamCreateWithPriority         0.01%     213.000us         0.01%     213.000us      53.250us       0.000us         0.00%       0.000us       0.000us             4            --  \n",
      "                                             cudaMalloc         0.08%       1.376ms         0.08%       1.376ms      80.941us       0.000us         0.00%       0.000us       0.000us            17            --  \n",
      "                                        cudaMemsetAsync         0.00%      51.000us         0.00%      51.000us      12.750us       0.000us         0.00%       0.000us       0.000us             4            --  \n",
      "                               cudaEventCreateWithFlags         0.00%       3.000us         0.00%       3.000us       0.100us       0.000us         0.00%       0.000us       0.000us            30            --  \n",
      "                                          cudaHostAlloc         0.04%     711.000us         0.04%     711.000us     711.000us       0.000us         0.00%       0.000us       0.000us             1            --  \n",
      "                               cudaHostGetDevicePointer         0.00%       1.000us         0.00%       1.000us       1.000us       0.000us         0.00%       0.000us       0.000us             1            --  \n",
      "                                               cudaFree        32.76%     584.771ms        32.76%     584.771ms     146.193ms       0.000us         0.00%       0.000us       0.000us             4            --  \n",
      "                                             cudaMemcpy         0.00%      11.000us         0.00%      11.000us      11.000us       0.000us         0.00%       0.000us       0.000us             1            --  \n",
      "                                   cudaFuncSetAttribute         0.00%       1.000us         0.00%       1.000us       0.006us       0.000us         0.00%       0.000us       0.000us           169            --  \n",
      "                                        cudaEventRecord         0.00%      45.000us         0.00%      45.000us       1.098us       0.000us         0.00%       0.000us       0.000us            41            --  \n",
      "                                            aten::empty         0.02%     283.000us         0.05%     964.000us      15.302us       0.000us         0.00%       0.000us       0.000us            63            --  \n",
      "                                       cudaLaunchKernel        66.00%        1.178s        66.00%        1.178s      10.908ms       0.000us         0.00%       0.000us       0.000us           108            --  \n",
      "                                       aten::batch_norm         0.01%      96.000us         0.17%       3.054ms     218.143us       0.000us         0.00%     349.000us      24.929us            14            --  \n",
      "                           aten::_batch_norm_impl_index         0.00%      80.000us         0.17%       2.958ms     211.286us       0.000us         0.00%     349.000us      24.929us            14            --  \n",
      "                                       aten::empty_like         0.00%      71.000us         0.02%     369.000us      26.357us       0.000us         0.00%       0.000us       0.000us            14            --  \n",
      "                                             aten::view         0.01%     125.000us         0.01%     125.000us       4.630us       0.000us         0.00%       0.000us       0.000us            27            --  \n",
      "                                      aten::leaky_relu_         0.02%     309.000us         0.12%       2.055ms     108.158us       0.000us         0.00%     327.000us      17.211us            19            --  \n",
      "                                        cudaBindTexture         0.00%      55.000us         0.00%      55.000us       2.619us       0.000us         0.00%       0.000us       0.000us            21            --  \n",
      "                                      cudaUnbindTexture         0.00%      17.000us         0.00%      17.000us       0.810us       0.000us         0.00%       0.000us       0.000us            21            --  \n",
      "                                              aten::cat         0.00%      58.000us         0.04%     664.000us     132.800us       0.000us         0.00%       0.000us       0.000us             5            --  \n",
      "                                             aten::_cat         0.02%     427.000us         0.03%     606.000us     121.200us       0.000us         0.00%       0.000us       0.000us             5            --  \n",
      "                                          aten::reshape         0.00%      36.000us         0.01%     129.000us       9.923us       0.000us         0.00%       0.000us       0.000us            13            --  \n",
      "                                             aten::add_         0.07%       1.189ms         0.07%       1.273ms      97.923us       0.000us         0.00%       0.000us       0.000us            13            --  \n",
      "                                 aten::conv_transpose2d         0.00%      47.000us         0.13%       2.376ms     297.000us       0.000us         0.00%       0.000us       0.000us             8            --  \n",
      "                      aten::cudnn_convolution_transpose         0.10%       1.746ms         0.11%       1.961ms     245.125us       0.000us         0.00%       0.000us       0.000us             8            --  \n",
      "-------------------------------------------------------  ------------  ------------  ------------  ------------  ------------  ------------  ------------  ------------  ------------  ------------  ------------  \n",
      "Self CPU time total: 1.785s\n",
      "Self CUDA time total: 4.892ms\n",
      "\n"
     ]
    }
   ],
   "source": [
    "with torch.profiler.profile(\n",
    "    activities=[\n",
    "        torch.profiler.ProfilerActivity.CPU,\n",
    "        torch.profiler.ProfilerActivity.CUDA],\n",
    "    with_flops=True\n",
    ") as p:\n",
    "    flowC(flowC_in)\n",
    "print(p.key_averages().table(\n",
    "    sort_by=\"self_cuda_time_total\", row_limit=-1))"
   ]
  },
  {
   "cell_type": "markdown",
   "id": "2b74cee6",
   "metadata": {},
   "source": [
    "If I read this correctly, it takes around 4.89ms for one pas and requires around 4 TFlops"
   ]
  },
  {
   "cell_type": "code",
   "execution_count": null,
   "id": "a4672b13",
   "metadata": {},
   "outputs": [],
   "source": []
  }
 ],
 "metadata": {
  "kernelspec": {
   "display_name": "Python 3",
   "language": "python",
   "name": "python3"
  },
  "language_info": {
   "codemirror_mode": {
    "name": "ipython",
    "version": 3
   },
   "file_extension": ".py",
   "mimetype": "text/x-python",
   "name": "python",
   "nbconvert_exporter": "python",
   "pygments_lexer": "ipython3",
   "version": "3.9.2"
  }
 },
 "nbformat": 4,
 "nbformat_minor": 5
}
