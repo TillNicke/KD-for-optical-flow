{
 "cells": [
  {
   "cell_type": "markdown",
   "id": "917ac913",
   "metadata": {},
   "source": [
    "## Playground for PDDNet\n",
    "The class below was taken from the git repo https://github.com/multimodallearning/pdd_net\n",
    "\n",
    "This is the playgrund for PDD exploration and creating a model, that will be used as a student with FLowNet2 and PWC-Net as teachers"
   ]
  },
  {
   "cell_type": "code",
   "execution_count": 1,
   "id": "5f0c431a",
   "metadata": {},
   "outputs": [],
   "source": [
    "import torch\n",
    "from torch import nn\n",
    "import torch.nn.functional as F\n",
    "import matplotlib.pyplot as plt\n",
    "import numpy as np\n",
    "from tqdm import tqdm\n",
    "import time\n",
    "from utils.plotting import countParameters, flow2img, overlaySegment\n",
    "import cv2\n",
    "from utils.layers import warp\n",
    "from ptflops import get_model_complexity_info"
   ]
  },
  {
   "cell_type": "code",
   "execution_count": 2,
   "id": "3c0ba12f",
   "metadata": {},
   "outputs": [],
   "source": [
    "img = torch.load(\"Data/img.pth\")\n",
    "seg= torch.load(\"Data/seg.pth\")"
   ]
  },
  {
   "cell_type": "code",
   "execution_count": 3,
   "id": "8fd77e1a",
   "metadata": {},
   "outputs": [
    {
     "name": "stderr",
     "output_type": "stream",
     "text": [
      "/home/till/envs/anaconda3/envs/uni/lib/python3.9/site-packages/torch/nn/functional.py:3890: UserWarning: Default grid_sample and affine_grid behavior has changed to align_corners=False since 1.3.0. Please specify align_corners=True if the old behavior is desired. See the documentation of grid_sample for details.\n",
      "  warnings.warn(\n"
     ]
    },
    {
     "name": "stdout",
     "output_type": "stream",
     "text": [
      "ogrid_xy:  torch.Size([1, 1, 9010, 2])\n",
      "shift:  torch.Size([1, 1, 121, 2])\n",
      "grid:  torch.Size([1, 1024, 1, 2])\n"
     ]
    }
   ],
   "source": [
    "h, w = img[0].shape\n",
    "\n",
    "o_m = h//3\n",
    "o_n = w//3\n",
    "#o_o = D//3\n",
    "#print('numel_o',o_m*o_n)\n",
    "ogrid_xy = F.affine_grid(torch.eye(2,3).unsqueeze(0),(1,1,o_m,o_n)).view(1,1,-1,2).cuda()\n",
    "print(\"ogrid_xy: \", ogrid_xy.shape)\n",
    "\n",
    "disp_range = 0.25#0.25\n",
    "displacement_width = 11#15#11#17\n",
    "shift_xy = F.affine_grid(disp_range*torch.eye(2,3).unsqueeze(0),(1,1,displacement_width,displacement_width)).view(1,1,-1,2).cuda()\n",
    "print(\"shift: \", shift_xy.shape)\n",
    "\n",
    "#_,_,H,W,D = img00.size()\n",
    "grid_size = 32#25#30\n",
    "grid_xy = F.affine_grid(torch.eye(2,3).unsqueeze(0),(1,1,grid_size,grid_size)).view(1,-1,1,2).cuda()\n",
    "print(\"grid: \", grid_xy.shape)"
   ]
  },
  {
   "cell_type": "markdown",
   "id": "036a2c23",
   "metadata": {},
   "source": [
    "Basically I reduced every dimension as far as I could by 1. This does $\\textbf{not}$ mean that this isthe right way to do it. I need to look into the logic behind it\n",
    "\n",
    "## Obelisk and Deeds 2D "
   ]
  },
  {
   "cell_type": "code",
   "execution_count": 4,
   "id": "5b716236",
   "metadata": {},
   "outputs": [],
   "source": [
    "class OBELISK2d(nn.Module):\n",
    "    def __init__(self, chan = 16):\n",
    "\n",
    "        super(OBELISK2d, self).__init__()\n",
    "        channels = chan\n",
    "        self.offsets = nn.Parameter(torch.randn(2,channels*2)*0.05)\n",
    "        self.layer0 = nn.Conv2d(in_channels=1, out_channels=4, kernel_size=5, stride=2, bias=False, padding=2)\n",
    "        self.batch0 = nn.BatchNorm2d(4)\n",
    "\n",
    "        self.layer1 = nn.Conv2d(channels*4, channels*4, 1, bias=False, groups=1)\n",
    "        self.batch1 = nn.BatchNorm2d(channels*4)\n",
    "        self.layer2 = nn.Conv2d(channels*4, channels*2, 3, bias=False, padding=1)\n",
    "        self.batch2 = nn.BatchNorm2d(channels*2)\n",
    "        self.layer3 = nn.Conv2d(channels*2, channels*1, 1)\n",
    "\n",
    "\n",
    "    def forward(self, input_img):\n",
    "        img_in = F.avg_pool2d(input_img,3,padding=1,stride=2)\n",
    "        img_in = F.relu(self.batch0(self.layer0(img_in)))\n",
    "        sampled = F.grid_sample(img_in,ogrid_xy + self.offsets[0,:].view(1,-1,1,2)).view(1,-1,o_m,o_n)\n",
    "        sampled -= F.grid_sample(img_in,ogrid_xy + self.offsets[1,:].view(1,-1,1,2)).view(1,-1,o_m,o_n)\n",
    "    \n",
    "        x = F.relu(self.batch1(self.layer1(sampled)))\n",
    "        x = F.relu(self.batch2(self.layer2(x)))\n",
    "        features = self.layer3(x)\n",
    "        return features\n",
    "\n",
    "\n",
    "class deeds2d(nn.Module):\n",
    "    def __init__(self):\n",
    "\n",
    "        super(deeds2d, self).__init__()\n",
    "        self.alpha = nn.Parameter(torch.Tensor([1,.1,1,1,.1,1])).cuda()\n",
    "\n",
    "        self.pad1 = nn.ReplicationPad2d(3).cuda()\n",
    "        self.avg1 = nn.AvgPool2d(3,stride=1).cuda()\n",
    "        self.max1 = nn.MaxPool2d(3,stride=1).cuda()\n",
    "        self.pad2 = nn.ReplicationPad2d(2).cuda()##\n",
    "        \n",
    "    def forward(self, feat00,feat50):\n",
    "        \n",
    "        #deeds correlation layer (slightly unrolled)\n",
    "        deeds_cost = torch.zeros(1,grid_size**2,displacement_width, displacement_width).cuda()\n",
    "\n",
    "        #print(deeds_cost.shape)\n",
    "        xy8 = grid_size**2\n",
    "        #i=1\n",
    "        #print(grid_xy[:,i*grid_size:(i+1)*grid_size,:,:].shape)\n",
    "        for i in range(grid_size): \n",
    "            moving_unfold = F.grid_sample(feat50, grid_xy[:,i*grid_size:(i+1)*grid_size,:,:] + shift_xy,padding_mode='border')\n",
    "            fixed_grid = F.grid_sample(feat00, grid_xy[:,i*grid_size:(i+1)*grid_size,:,:]) # grid_xy[:,i*xy8:(i+1)*xy8,:,:]\n",
    "            deeds_cost[:,i*grid_size:(i+1)*grid_size,:,:] = self.alpha[1]+self.alpha[0]*torch.sum(torch.pow(fixed_grid-moving_unfold,2),1).view(1,-1,displacement_width,displacement_width)\n",
    "        \n",
    "\n",
    "        # remove mean (not really necessary)\n",
    "        #deeds_cost = deeds_cost.view(-1,displacement_width**3) - deeds_cost.view(-1,displacement_width**3).mean(1,keepdim=True)[0]\n",
    "        #deeds_cost = deeds_cost.view(1,-1,displacement_width,displacement_width)\n",
    "        #print(deeds_cost.shape)\n",
    "\n",
    "        # approximate min convolution / displacement compatibility\n",
    "        cost = self.avg1(self.avg1(-self.max1(-self.pad1(deeds_cost))))            \n",
    "        # grid-based mean field inference (one iteration)\n",
    "        cost_permute = cost.permute(2,3,0,1).view(1,displacement_width**2,grid_size, grid_size)\n",
    "        cost_avg = self.avg1(self.avg1(self.pad2(cost_permute))).permute(0,2,3,1).view(1,-1,displacement_width,displacement_width)\n",
    "\n",
    "        # second path\n",
    "        cost = self.alpha[4]+self.alpha[2]*deeds_cost+self.alpha[3]*cost_avg\n",
    "        cost = self.avg1(self.avg1(-self.max1(-self.pad1(cost))))\n",
    "        \n",
    "        # grid-based mean field inference (one iteration)\n",
    "        cost_permute = cost.permute(2,3,0,1).view(1,displacement_width**2,grid_size,grid_size)\n",
    "        cost_avg = self.avg1(self.avg1(self.pad2(cost_permute))).permute(0,2,3,1).view(grid_size**2,displacement_width**2)\n",
    "        #cost = alpha[4]+alpha[2]*deeds_cost+alpha[3]*cost.view(1,-1,displacement_width,displacement_width,displacement_width)\n",
    "        #cost = avg1(avg1(-max1(-pad1(cost))))\n",
    "        \n",
    "        #probabilistic and continuous output\n",
    "        cost_soft = F.softmax(-self.alpha[5]*cost_avg,1)\n",
    "        #pred_xyz = torch.sum(F.softmax(-5self.alpha[2]*cost_avg,1).unsqueeze(2)*shift_xyz.view(1,-1,3),1)\n",
    "        pred_xy = torch.sum(cost_soft.unsqueeze(2)*shift_xy.view(1,-1,2),1)\n",
    "\n",
    "\n",
    "        return cost_soft,pred_xy"
   ]
  },
  {
   "cell_type": "code",
   "execution_count": 5,
   "id": "4f4b434e",
   "metadata": {},
   "outputs": [
    {
     "name": "stdout",
     "output_type": "stream",
     "text": [
      "Warning: module OBELISK2d is treated as a zero-op.\n",
      "OBELISK2d(\n",
      "  0.009 M, 99.569% Params, 0.083 GMac, 100.000% MACs, \n",
      "  (layer0): Conv2d(0.0 M, 1.078% Params, 0.001 GMac, 0.618% MACs, 1, 4, kernel_size=(5, 5), stride=(2, 2), padding=(2, 2), bias=False)\n",
      "  (batch0): BatchNorm2d(0.0 M, 0.086% Params, 0.0 GMac, 0.049% MACs, 4, eps=1e-05, momentum=0.1, affine=True, track_running_stats=True)\n",
      "  (layer1): Conv2d(0.002 M, 17.245% Params, 0.014 GMac, 17.408% MACs, 40, 40, kernel_size=(1, 1), stride=(1, 1), bias=False)\n",
      "  (batch1): BatchNorm2d(0.0 M, 0.862% Params, 0.001 GMac, 0.870% MACs, 40, eps=1e-05, momentum=0.1, affine=True, track_running_stats=True)\n",
      "  (layer2): Conv2d(0.007 M, 77.603% Params, 0.065 GMac, 78.334% MACs, 40, 20, kernel_size=(3, 3), stride=(1, 1), padding=(1, 1), bias=False)\n",
      "  (batch2): BatchNorm2d(0.0 M, 0.431% Params, 0.0 GMac, 0.435% MACs, 20, eps=1e-05, momentum=0.1, affine=True, track_running_stats=True)\n",
      "  (layer3): Conv2d(0.0 M, 2.263% Params, 0.002 GMac, 2.285% MACs, 20, 10, kernel_size=(1, 1), stride=(1, 1))\n",
      ")\n",
      "Computational complexity:       0.08 GMac\n",
      "Number of parameters:           9.28 k  \n"
     ]
    },
    {
     "name": "stderr",
     "output_type": "stream",
     "text": [
      "/home/till/envs/anaconda3/envs/uni/lib/python3.9/site-packages/torch/nn/functional.py:3828: UserWarning: Default grid_sample and affine_grid behavior has changed to align_corners=False since 1.3.0. Please specify align_corners=True if the old behavior is desired. See the documentation of grid_sample for details.\n",
      "  warnings.warn(\n"
     ]
    }
   ],
   "source": [
    "net = OBELISK2d(chan=10).cuda()\n",
    "reg = deeds2d().cuda()\n",
    "\n",
    "macs_obel, params_obel = get_model_complexity_info(net, input_res=(1,320,256), as_strings=True,\n",
    "                                           print_per_layer_stat=True, verbose=True)\n",
    "print('{:<30}  {:<8}'.format('Computational complexity: ', macs_obel))\n",
    "print('{:<30}  {:<8}'.format('Number of parameters: ', params_obel))"
   ]
  },
  {
   "cell_type": "markdown",
   "id": "e16977fb",
   "metadata": {},
   "source": [
    "MAC stands for *Multiply–accumulate operation* and can be roughly interpreted as GMACs = 0.5 * GFLOPs $\\Leftrightarrow$ 2 * GMACs = GFLOPs \n",
    "\n",
    "From \"AutoDVT\" by Tanno et al, we knwo, that the PowerVR GT7600 Plus (a mobile GPU) provides up to 384 GFLOPs. devided by 25 images/s (leave room for other processes on the GPU), this yields $\\frac{384 GFLOPs}{25 IMGs} \\approx 15GFLOP$ for one image pass.\n",
    "\n",
    "With the api, used in the cell above, we can estimate the GFLOPs of the used model. By multiplying the estimated GMac by 2 to convert it into FLOP we get $0.16 * 2 * 2 = 0.32$ GFLOP for one images for the feature extraction. We only need to estmate this for one image, as the feature extracted from the previous frame can be held in memory and does not need to be computed twice. Passing through two images, will only need to be done in the beginning, when there is no feature representation existend in memory.\n",
    "\n",
    "Now the reg model, is a bit more difficult. The api used above, only allows for one input resolution, and therefore can't be used with the reg model, as it expects two inputs. However, we can roughly estimate the FLOP used by the reg model, when we think about what is happening. We first estimate the correlation between the two extracted features for every grid point. Both features have a size of BxOutputChannelx106x85, with B = 1. With a grid size of 32x32, we loop over the correlation estimation 32 times. The correlation estimation can be expressed as $\\alpha_1 + \\alpha_0 * \\sum_{c=0}^{Channel}(fixed-moving)^2$ where fixed has a shape of Channel x Grid x 1 and moving Channel x Grid x Offset². We need to do gridsize x displacement² subtractions and multiplications. This is done over the Channels in every grid. We end up with grid x Channel x (grid x displacement²)² Flop. For 14 channels and a grid of 32 x 32 with an displacement of 11, we end up with $32 * 14 * (32 * 121)^2 = 6.716.588.032$ operations. This would be 6.7 GFlop for one pass. *And I am honestly not sure about this...*\n",
    "\n",
    "Alternative: $32 * 14 * (32 * 121) = 1734656$\n"
   ]
  },
  {
   "cell_type": "code",
   "execution_count": 6,
   "id": "a4688da0",
   "metadata": {},
   "outputs": [],
   "source": [
    "image = img[0].cuda()\n",
    "segmen = seg[0].float().cuda()"
   ]
  },
  {
   "cell_type": "code",
   "execution_count": 7,
   "id": "defa5487",
   "metadata": {},
   "outputs": [
    {
     "name": "stdout",
     "output_type": "stream",
     "text": [
      "-------------------------------------------------------  ------------  ------------  ------------  ------------  ------------  ------------  ------------  ------------  ------------  ------------  ------------  ------------  ------------  ------------  ------------  \n",
      "                                                   Name    Self CPU %      Self CPU   CPU total %     CPU total  CPU time avg     Self CUDA   Self CUDA %    CUDA total  CUDA time avg       CPU Mem  Self CPU Mem      CUDA Mem  Self CUDA Mem    # of Calls        MFLOPS  \n",
      "-------------------------------------------------------  ------------  ------------  ------------  ------------  ------------  ------------  ------------  ------------  ------------  ------------  ------------  ------------  ------------  ------------  ------------  \n",
      "                                  aten::grid_sampler_2d         0.08%       1.090ms         0.14%       1.866ms      27.441us     732.000us        27.79%     732.000us      10.765us           0 b           0 b      10.28 Mb           0 b            68            --  \n",
      "void at::native::(anonymous namespace)::grid_sampler...         0.00%       0.000us         0.00%       0.000us       0.000us     732.000us        27.79%     732.000us      10.765us           0 b           0 b           0 b           0 b            68            --  \n",
      "                                aten::cudnn_convolution         0.02%     330.000us         0.05%     611.000us      76.375us     381.000us        14.46%     381.000us      47.625us           0 b           0 b       4.97 Mb       4.76 Mb             8            --  \n",
      "void at::native::unrolled_elementwise_kernel<at::nat...         0.00%       0.000us         0.00%       0.000us       0.000us     297.000us        11.28%     297.000us       2.856us           0 b           0 b           0 b           0 b           104            --  \n",
      "                                       aten::avg_pool2d         0.02%     219.000us         0.05%     690.000us      69.000us     286.000us        10.86%     286.000us      28.600us           0 b           0 b       4.43 Mb           0 b            10            --  \n",
      "void at::native::(anonymous namespace)::avg_pool2d_o...         0.00%       0.000us         0.00%       0.000us       0.000us     286.000us        10.86%     286.000us      28.600us           0 b           0 b           0 b           0 b            10            --  \n",
      "volta_scudnn_winograd_128x128_ldg1_ldg4_relu_tile148...         0.00%       0.000us         0.00%       0.000us       0.000us     195.000us         7.40%     195.000us      97.500us           0 b           0 b           0 b           0 b             2            --  \n",
      "                                              aten::add         0.11%       1.467ms         0.15%       2.054ms      29.343us     194.000us         7.37%     194.000us       2.771us           0 b           0 b       5.13 Mb       5.13 Mb            70      1020.954  \n",
      "void cudnn::detail::implicit_convolve_sgemm<float, f...         0.00%       0.000us         0.00%       0.000us       0.000us     179.000us         6.80%     179.000us      29.833us           0 b           0 b           0 b           0 b             6            --  \n",
      "                                              aten::sum         0.05%     709.000us         0.08%       1.120ms      33.939us     148.000us         5.62%     148.000us       4.485us           0 b           0 b     504.00 Kb           0 b            33            --  \n",
      "                                              aten::mul         0.06%     825.000us         0.09%       1.262ms      35.056us     138.000us         5.24%     138.000us       3.833us           0 b           0 b       2.85 Mb           0 b            36       898.109  \n",
      "void at::native::unrolled_elementwise_kernel<at::nat...         0.00%       0.000us         0.00%       0.000us       0.000us     138.000us         5.24%     138.000us       3.833us           0 b           0 b           0 b           0 b            36            --  \n",
      "void at::native::reduce_kernel<128, 4, at::native::R...         0.00%       0.000us         0.00%       0.000us       0.000us     129.000us         4.90%     129.000us       4.031us           0 b           0 b           0 b           0 b            32            --  \n",
      "                                            aten::copy_         0.04%     587.000us        98.70%        1.313s      36.482ms     107.000us         4.06%     107.000us       2.972us           0 b           0 b           0 b           0 b            36            --  \n",
      "                                 aten::cudnn_batch_norm         0.01%     181.000us         0.02%     329.000us      54.833us      98.000us         3.72%      98.000us      16.333us           0 b           0 b       4.28 Mb           0 b             6            --  \n",
      "void cudnn::detail::bn_fw_inf_1C11_kernel_NCHW<float...         0.00%       0.000us         0.00%       0.000us       0.000us      98.000us         3.72%      98.000us      16.333us           0 b           0 b           0 b           0 b             6            --  \n",
      "                                aten::replication_pad2d         0.01%      81.000us         0.01%     143.000us      35.750us      96.000us         3.64%      96.000us      24.000us           0 b           0 b       3.46 Mb           0 b             4            --  \n",
      "void at::native::(anonymous namespace)::replication_...         0.00%       0.000us         0.00%       0.000us       0.000us      96.000us         3.64%      96.000us      24.000us           0 b           0 b           0 b           0 b             4            --  \n",
      "                          aten::max_pool2d_with_indices         0.00%      63.000us         0.02%     225.000us     112.500us      90.000us         3.42%      90.000us      45.000us           0 b           0 b       5.27 Mb           0 b             2            --  \n",
      "void at::native::(anonymous namespace)::max_pool_for...         0.00%       0.000us         0.00%       0.000us       0.000us      90.000us         3.42%      90.000us      45.000us           0 b           0 b           0 b           0 b             2            --  \n",
      "                                              aten::sub         0.04%     502.000us         0.07%     866.000us      27.062us      89.000us         3.38%      89.000us       2.781us           0 b           0 b       4.73 Mb           0 b            32            --  \n",
      "                                             aten::sub_         0.00%      38.000us         0.00%      51.000us      25.500us      77.000us         2.92%      77.000us      38.500us           0 b           0 b           0 b           0 b             2            --  \n",
      "void at::native::vectorized_elementwise_kernel<4, at...         0.00%       0.000us         0.00%       0.000us       0.000us      77.000us         2.92%      77.000us      38.500us           0 b           0 b           0 b           0 b             2            --  \n",
      "                                              aten::neg         0.01%     117.000us         0.04%     522.000us      52.200us      75.000us         2.85%     150.000us      15.000us           0 b           0 b       8.74 Mb           0 b            10            --  \n",
      "void at::native::vectorized_elementwise_kernel<4, at...         0.00%       0.000us         0.00%       0.000us       0.000us      74.000us         2.81%      74.000us      18.500us           0 b           0 b           0 b           0 b             4            --  \n",
      "                                        aten::threshold         0.01%      69.000us         0.02%     246.000us      41.000us      68.000us         2.58%      68.000us      11.333us           0 b           0 b       4.28 Mb           0 b             6            --  \n",
      "void at::native::vectorized_elementwise_kernel<4, at...         0.00%       0.000us         0.00%       0.000us       0.000us      68.000us         2.58%      68.000us      11.333us           0 b           0 b           0 b           0 b             6            --  \n",
      "                       Memcpy HtoD (Pageable -> Device)         0.00%       0.000us         0.00%       0.000us       0.000us      40.000us         1.52%      40.000us      40.000us           0 b           0 b           0 b           0 b             1            --  \n",
      "                                              aten::pow         0.07%     950.000us         0.14%       1.879ms      58.719us      34.000us         1.29%      34.000us       1.062us           0 b           0 b       4.73 Mb           0 b            32            --  \n",
      "void at::native::vectorized_elementwise_kernel<4, at...         0.00%       0.000us         0.00%       0.000us       0.000us      34.000us         1.29%      34.000us       1.062us           0 b           0 b           0 b           0 b            32            --  \n",
      "                         Memcpy DtoD (Device -> Device)         0.00%       0.000us         0.00%       0.000us       0.000us      32.000us         1.21%      32.000us       1.000us           0 b           0 b           0 b           0 b            32            --  \n",
      "void at::native::unrolled_elementwise_kernel<at::nat...         0.00%       0.000us         0.00%       0.000us       0.000us      20.000us         0.76%      20.000us      10.000us           0 b           0 b           0 b           0 b             2            --  \n",
      "void at::native::reduce_kernel<256, 2, at::native::R...         0.00%       0.000us         0.00%       0.000us       0.000us      19.000us         0.72%      19.000us      19.000us           0 b           0 b           0 b           0 b             1            --  \n",
      "void at::native::unrolled_elementwise_kernel<at::nat...         0.00%       0.000us         0.00%       0.000us       0.000us      15.000us         0.57%      15.000us      15.000us           0 b           0 b           0 b           0 b             1            --  \n",
      "                                             aten::add_         0.00%      30.000us         0.00%      43.000us      21.500us      14.000us         0.53%      14.000us       7.000us           0 b           0 b           0 b           0 b             2            --  \n",
      "void cudnn::winograd::generateWinogradTilesKernel<0,...         0.00%       0.000us         0.00%       0.000us       0.000us       7.000us         0.27%       7.000us       3.500us           0 b           0 b           0 b           0 b             2            --  \n",
      "                                         aten::_softmax         0.00%      30.000us         0.01%     188.000us     188.000us       7.000us         0.27%      22.000us      22.000us           0 b           0 b     484.00 Kb    -484.00 Kb             1            --  \n",
      "void (anonymous namespace)::softmax_warp_forward<flo...         0.00%       0.000us         0.00%       0.000us       0.000us       7.000us         0.27%       7.000us       7.000us           0 b           0 b           0 b           0 b             1            --  \n",
      "void at::native::unrolled_elementwise_kernel<at::nat...         0.00%       0.000us         0.00%       0.000us       0.000us       1.000us         0.04%       1.000us       1.000us           0 b           0 b           0 b           0 b             1            --  \n",
      "                                          aten::reshape         0.00%      20.000us         0.00%      59.000us      14.750us       0.000us         0.00%       0.000us       0.000us           0 b           0 b           0 b           0 b             4            --  \n",
      "                                             aten::view         0.03%     368.000us         0.03%     368.000us       6.691us       0.000us         0.00%       0.000us       0.000us           0 b           0 b           0 b           0 b            55            --  \n",
      "                                        aten::unsqueeze         0.00%      29.000us         0.00%      35.000us      11.667us       0.000us         0.00%       0.000us       0.000us           0 b           0 b           0 b           0 b             3            --  \n",
      "                                       aten::as_strided         0.04%     576.000us         0.04%     576.000us       1.152us       0.000us         0.00%       0.000us       0.000us           0 b           0 b           0 b           0 b           500            --  \n",
      "                                               aten::to         0.00%      63.000us        98.69%        1.313s      35.494ms       0.000us         0.00%      60.000us       1.622us           0 b           0 b       1.10 Mb           0 b            37            --  \n",
      "                                    aten::empty_strided         0.07%     954.000us         0.07%     954.000us      25.784us       0.000us         0.00%       0.000us       0.000us           0 b           0 b       6.78 Mb       6.78 Mb            37            --  \n",
      "                                       cudaLaunchKernel        98.79%        1.315s        98.79%        1.315s       4.082ms       0.000us         0.00%       0.000us       0.000us           0 b           0 b           0 b           0 b           322            --  \n",
      "                                            aten::empty         0.08%       1.014ms         0.09%       1.216ms       5.553us       0.000us         0.00%       0.000us       0.000us     484.00 Kb     484.00 Kb      27.13 Mb      27.13 Mb           219            --  \n",
      "                                          aten::resize_         0.01%     160.000us         0.05%     659.000us      16.897us       0.000us         0.00%       0.000us       0.000us           0 b           0 b      17.53 Mb      17.53 Mb            39            --  \n",
      "                                           aten::conv2d         0.01%      86.000us         0.07%     883.000us     110.375us       0.000us         0.00%     395.000us      49.375us           0 b           0 b       4.97 Mb           0 b             8    826349.367  \n",
      "                                      aten::convolution         0.00%      47.000us         0.06%     797.000us      99.625us       0.000us         0.00%     395.000us      49.375us           0 b           0 b       4.97 Mb           0 b             8            --  \n",
      "                                     aten::_convolution         0.01%      72.000us         0.06%     750.000us      93.750us       0.000us         0.00%     395.000us      49.375us           0 b           0 b       4.97 Mb           0 b             8            --  \n",
      "                                        cudaEventRecord         0.00%      15.000us         0.00%      15.000us       1.071us       0.000us         0.00%       0.000us       0.000us           0 b           0 b           0 b           0 b            14            --  \n",
      "                                        cudaBindTexture         0.00%      14.000us         0.00%      14.000us       2.333us       0.000us         0.00%       0.000us       0.000us           0 b           0 b           0 b           0 b             6            --  \n",
      "                                      cudaUnbindTexture         0.00%       0.000us         0.00%       0.000us       0.000us       0.000us         0.00%       0.000us       0.000us           0 b           0 b           0 b           0 b             6            --  \n",
      "                                       aten::batch_norm         0.00%      37.000us         0.03%     397.000us      66.167us       0.000us         0.00%      98.000us      16.333us           0 b           0 b       4.28 Mb           0 b             6            --  \n",
      "                           aten::_batch_norm_impl_index         0.00%      31.000us         0.03%     360.000us      60.000us       0.000us         0.00%      98.000us      16.333us           0 b           0 b       4.28 Mb           0 b             6            --  \n",
      "                                       aten::empty_like         0.01%     163.000us         0.04%     533.000us      13.325us       0.000us         0.00%       0.000us       0.000us           0 b           0 b       9.96 Mb           0 b            40            --  \n",
      "                                             aten::relu         0.01%      74.000us         0.02%     320.000us      53.333us       0.000us         0.00%      68.000us      11.333us           0 b           0 b       4.28 Mb           0 b             6            --  \n",
      "                                           aten::select         0.04%     525.000us         0.05%     607.000us       8.431us       0.000us         0.00%       0.000us       0.000us           0 b           0 b           0 b           0 b            72            --  \n",
      "                                            aten::slice         0.17%       2.287ms         0.20%       2.717ms       7.003us       0.000us         0.00%       0.000us       0.000us           0 b           0 b           0 b           0 b           388            --  \n",
      "                                     aten::grid_sampler         0.03%     391.000us         0.17%       2.257ms      33.191us       0.000us         0.00%     732.000us      10.765us           0 b           0 b      10.28 Mb           0 b            68            --  \n",
      "                                             cudaMalloc         0.07%     920.000us         0.07%     920.000us     102.222us       0.000us         0.00%       0.000us       0.000us           0 b           0 b           0 b           0 b             9            --  \n",
      "                                            aten::zeros         0.00%       7.000us         0.01%     176.000us     176.000us       0.000us         0.00%       0.000us       0.000us     484.00 Kb           0 b           0 b           0 b             1            --  \n",
      "                                            aten::zero_         0.00%       4.000us         0.01%     157.000us     157.000us       0.000us         0.00%       0.000us       0.000us           0 b           0 b           0 b           0 b             1            --  \n",
      "                                            aten::fill_         0.01%     153.000us         0.01%     153.000us     153.000us       0.000us         0.00%       0.000us       0.000us           0 b           0 b           0 b           0 b             1            --  \n",
      "                                        cudaMemcpyAsync         0.03%     374.000us         0.03%     374.000us      11.333us       0.000us         0.00%       0.000us       0.000us           0 b           0 b           0 b           0 b            33            --  \n",
      "                                  cudaStreamSynchronize         0.00%      47.000us         0.00%      47.000us      47.000us       0.000us         0.00%       0.000us       0.000us           0 b           0 b           0 b           0 b             1            --  \n",
      "                                      aten::result_type         0.02%     300.000us         0.02%     300.000us       4.688us       0.000us         0.00%       0.000us       0.000us           0 b           0 b           0 b           0 b            64            --  \n",
      "                                         aten::can_cast         0.00%      27.000us         0.00%      27.000us       0.844us       0.000us         0.00%       0.000us       0.000us           0 b           0 b           0 b           0 b            32            --  \n",
      "                                       aten::max_pool2d         0.00%      12.000us         0.02%     237.000us     118.500us       0.000us         0.00%      90.000us      45.000us           0 b           0 b       5.27 Mb           0 b             2            --  \n",
      "                                          aten::permute         0.00%      44.000us         0.00%      52.000us      13.000us       0.000us         0.00%       0.000us       0.000us           0 b           0 b           0 b           0 b             4            --  \n",
      "                                          aten::softmax         0.00%       8.000us         0.01%     196.000us     196.000us       0.000us         0.00%      22.000us      22.000us           0 b           0 b     484.00 Kb           0 b             1            --  \n",
      "                                       aten::contiguous         0.00%       6.000us         0.00%      34.000us      34.000us       0.000us         0.00%      15.000us      15.000us           0 b           0 b     484.00 Kb           0 b             1            --  \n",
      "                                               [memory]         0.00%       0.000us         0.00%       0.000us       0.000us       0.000us         0.00%       0.000us       0.000us    -484.00 Kb    -484.00 Kb     -29.83 Mb     -29.83 Mb           187            --  \n",
      "-------------------------------------------------------  ------------  ------------  ------------  ------------  ------------  ------------  ------------  ------------  ------------  ------------  ------------  ------------  ------------  ------------  ------------  \n",
      "Self CPU time total: 1.331s\n",
      "Self CUDA time total: 2.634ms\n",
      "\n"
     ]
    }
   ],
   "source": [
    "with torch.profiler.profile(\n",
    "    activities=[\n",
    "        torch.profiler.ProfilerActivity.CPU,\n",
    "        torch.profiler.ProfilerActivity.CUDA],\n",
    "    with_flops=True,\n",
    "    profile_memory=True,\n",
    "    \n",
    ") as p:\n",
    "    output = net(image.reshape(1,h,w).unsqueeze(0).to(torch.float32))\n",
    "    output = net(image.reshape(1,h,w).unsqueeze(0).to(torch.float32))\n",
    "    cost_out, pred = reg(output.cuda(), output.cuda())\n",
    "print(p.key_averages().table(\n",
    "    sort_by=\"self_cuda_time_total\"))"
   ]
  },
  {
   "cell_type": "markdown",
   "id": "e27304fc",
   "metadata": {},
   "source": [
    "If I read this correctly, the network takes around 3.1 ms on a GTX 1060 and requires $857.424 + 904.664 + 1273041.118 = 1.274.803.206$ MFlops\n",
    "\n",
    "If the numver of channels is reduced to 10, the runtime is abviously lower"
   ]
  },
  {
   "cell_type": "code",
   "execution_count": 15,
   "id": "19e0e273",
   "metadata": {},
   "outputs": [
    {
     "name": "stdout",
     "output_type": "stream",
     "text": [
      "torch.Size([1, 56, 106, 85])\n"
     ]
    },
    {
     "ename": "ValueError",
     "evalue": "x and y must be the same size",
     "output_type": "error",
     "traceback": [
      "\u001b[0;31m---------------------------------------------------------------------------\u001b[0m",
      "\u001b[0;31mValueError\u001b[0m                                Traceback (most recent call last)",
      "\u001b[0;32m<ipython-input-15-cc2cac74dacd>\u001b[0m in \u001b[0;36m<module>\u001b[0;34m\u001b[0m\n\u001b[1;32m      7\u001b[0m     \u001b[0mtime_array\u001b[0m\u001b[0;34m.\u001b[0m\u001b[0mappend\u001b[0m\u001b[0;34m(\u001b[0m\u001b[0mend\u001b[0m\u001b[0;34m-\u001b[0m\u001b[0mbegin\u001b[0m\u001b[0;34m)\u001b[0m\u001b[0;34m\u001b[0m\u001b[0;34m\u001b[0m\u001b[0m\n\u001b[1;32m      8\u001b[0m \u001b[0;31m#print(f\"Total runtime of the Obelisk Net is {(end - begin)} for one image \\nThat means {25*(end - begin)} for 25 images\")\u001b[0m\u001b[0;34m\u001b[0m\u001b[0;34m\u001b[0m\u001b[0;34m\u001b[0m\u001b[0m\n\u001b[0;32m----> 9\u001b[0;31m \u001b[0mplt\u001b[0m\u001b[0;34m.\u001b[0m\u001b[0mscatter\u001b[0m\u001b[0;34m(\u001b[0m\u001b[0mnp\u001b[0m\u001b[0;34m.\u001b[0m\u001b[0marange\u001b[0m\u001b[0;34m(\u001b[0m\u001b[0;36m1000\u001b[0m\u001b[0;34m)\u001b[0m\u001b[0;34m,\u001b[0m \u001b[0mtime_array\u001b[0m\u001b[0;34m)\u001b[0m\u001b[0;34m\u001b[0m\u001b[0;34m\u001b[0m\u001b[0m\n\u001b[0m",
      "\u001b[0;32m~/envs/anaconda3/envs/uni/lib/python3.9/site-packages/matplotlib/pyplot.py\u001b[0m in \u001b[0;36mscatter\u001b[0;34m(x, y, s, c, marker, cmap, norm, vmin, vmax, alpha, linewidths, edgecolors, plotnonfinite, data, **kwargs)\u001b[0m\n\u001b[1;32m   3035\u001b[0m         \u001b[0mvmin\u001b[0m\u001b[0;34m=\u001b[0m\u001b[0;32mNone\u001b[0m\u001b[0;34m,\u001b[0m \u001b[0mvmax\u001b[0m\u001b[0;34m=\u001b[0m\u001b[0;32mNone\u001b[0m\u001b[0;34m,\u001b[0m \u001b[0malpha\u001b[0m\u001b[0;34m=\u001b[0m\u001b[0;32mNone\u001b[0m\u001b[0;34m,\u001b[0m \u001b[0mlinewidths\u001b[0m\u001b[0;34m=\u001b[0m\u001b[0;32mNone\u001b[0m\u001b[0;34m,\u001b[0m \u001b[0;34m*\u001b[0m\u001b[0;34m,\u001b[0m\u001b[0;34m\u001b[0m\u001b[0;34m\u001b[0m\u001b[0m\n\u001b[1;32m   3036\u001b[0m         edgecolors=None, plotnonfinite=False, data=None, **kwargs):\n\u001b[0;32m-> 3037\u001b[0;31m     __ret = gca().scatter(\n\u001b[0m\u001b[1;32m   3038\u001b[0m         \u001b[0mx\u001b[0m\u001b[0;34m,\u001b[0m \u001b[0my\u001b[0m\u001b[0;34m,\u001b[0m \u001b[0ms\u001b[0m\u001b[0;34m=\u001b[0m\u001b[0ms\u001b[0m\u001b[0;34m,\u001b[0m \u001b[0mc\u001b[0m\u001b[0;34m=\u001b[0m\u001b[0mc\u001b[0m\u001b[0;34m,\u001b[0m \u001b[0mmarker\u001b[0m\u001b[0;34m=\u001b[0m\u001b[0mmarker\u001b[0m\u001b[0;34m,\u001b[0m \u001b[0mcmap\u001b[0m\u001b[0;34m=\u001b[0m\u001b[0mcmap\u001b[0m\u001b[0;34m,\u001b[0m \u001b[0mnorm\u001b[0m\u001b[0;34m=\u001b[0m\u001b[0mnorm\u001b[0m\u001b[0;34m,\u001b[0m\u001b[0;34m\u001b[0m\u001b[0;34m\u001b[0m\u001b[0m\n\u001b[1;32m   3039\u001b[0m         \u001b[0mvmin\u001b[0m\u001b[0;34m=\u001b[0m\u001b[0mvmin\u001b[0m\u001b[0;34m,\u001b[0m \u001b[0mvmax\u001b[0m\u001b[0;34m=\u001b[0m\u001b[0mvmax\u001b[0m\u001b[0;34m,\u001b[0m \u001b[0malpha\u001b[0m\u001b[0;34m=\u001b[0m\u001b[0malpha\u001b[0m\u001b[0;34m,\u001b[0m \u001b[0mlinewidths\u001b[0m\u001b[0;34m=\u001b[0m\u001b[0mlinewidths\u001b[0m\u001b[0;34m,\u001b[0m\u001b[0;34m\u001b[0m\u001b[0;34m\u001b[0m\u001b[0m\n",
      "\u001b[0;32m~/envs/anaconda3/envs/uni/lib/python3.9/site-packages/matplotlib/__init__.py\u001b[0m in \u001b[0;36minner\u001b[0;34m(ax, data, *args, **kwargs)\u001b[0m\n\u001b[1;32m   1350\u001b[0m     \u001b[0;32mdef\u001b[0m \u001b[0minner\u001b[0m\u001b[0;34m(\u001b[0m\u001b[0max\u001b[0m\u001b[0;34m,\u001b[0m \u001b[0;34m*\u001b[0m\u001b[0margs\u001b[0m\u001b[0;34m,\u001b[0m \u001b[0mdata\u001b[0m\u001b[0;34m=\u001b[0m\u001b[0;32mNone\u001b[0m\u001b[0;34m,\u001b[0m \u001b[0;34m**\u001b[0m\u001b[0mkwargs\u001b[0m\u001b[0;34m)\u001b[0m\u001b[0;34m:\u001b[0m\u001b[0;34m\u001b[0m\u001b[0;34m\u001b[0m\u001b[0m\n\u001b[1;32m   1351\u001b[0m         \u001b[0;32mif\u001b[0m \u001b[0mdata\u001b[0m \u001b[0;32mis\u001b[0m \u001b[0;32mNone\u001b[0m\u001b[0;34m:\u001b[0m\u001b[0;34m\u001b[0m\u001b[0;34m\u001b[0m\u001b[0m\n\u001b[0;32m-> 1352\u001b[0;31m             \u001b[0;32mreturn\u001b[0m \u001b[0mfunc\u001b[0m\u001b[0;34m(\u001b[0m\u001b[0max\u001b[0m\u001b[0;34m,\u001b[0m \u001b[0;34m*\u001b[0m\u001b[0mmap\u001b[0m\u001b[0;34m(\u001b[0m\u001b[0msanitize_sequence\u001b[0m\u001b[0;34m,\u001b[0m \u001b[0margs\u001b[0m\u001b[0;34m)\u001b[0m\u001b[0;34m,\u001b[0m \u001b[0;34m**\u001b[0m\u001b[0mkwargs\u001b[0m\u001b[0;34m)\u001b[0m\u001b[0;34m\u001b[0m\u001b[0;34m\u001b[0m\u001b[0m\n\u001b[0m\u001b[1;32m   1353\u001b[0m \u001b[0;34m\u001b[0m\u001b[0m\n\u001b[1;32m   1354\u001b[0m         \u001b[0mbound\u001b[0m \u001b[0;34m=\u001b[0m \u001b[0mnew_sig\u001b[0m\u001b[0;34m.\u001b[0m\u001b[0mbind\u001b[0m\u001b[0;34m(\u001b[0m\u001b[0max\u001b[0m\u001b[0;34m,\u001b[0m \u001b[0;34m*\u001b[0m\u001b[0margs\u001b[0m\u001b[0;34m,\u001b[0m \u001b[0;34m**\u001b[0m\u001b[0mkwargs\u001b[0m\u001b[0;34m)\u001b[0m\u001b[0;34m\u001b[0m\u001b[0;34m\u001b[0m\u001b[0m\n",
      "\u001b[0;32m~/envs/anaconda3/envs/uni/lib/python3.9/site-packages/matplotlib/axes/_axes.py\u001b[0m in \u001b[0;36mscatter\u001b[0;34m(self, x, y, s, c, marker, cmap, norm, vmin, vmax, alpha, linewidths, edgecolors, plotnonfinite, **kwargs)\u001b[0m\n\u001b[1;32m   4476\u001b[0m         \u001b[0my\u001b[0m \u001b[0;34m=\u001b[0m \u001b[0mnp\u001b[0m\u001b[0;34m.\u001b[0m\u001b[0mma\u001b[0m\u001b[0;34m.\u001b[0m\u001b[0mravel\u001b[0m\u001b[0;34m(\u001b[0m\u001b[0my\u001b[0m\u001b[0;34m)\u001b[0m\u001b[0;34m\u001b[0m\u001b[0;34m\u001b[0m\u001b[0m\n\u001b[1;32m   4477\u001b[0m         \u001b[0;32mif\u001b[0m \u001b[0mx\u001b[0m\u001b[0;34m.\u001b[0m\u001b[0msize\u001b[0m \u001b[0;34m!=\u001b[0m \u001b[0my\u001b[0m\u001b[0;34m.\u001b[0m\u001b[0msize\u001b[0m\u001b[0;34m:\u001b[0m\u001b[0;34m\u001b[0m\u001b[0;34m\u001b[0m\u001b[0m\n\u001b[0;32m-> 4478\u001b[0;31m             \u001b[0;32mraise\u001b[0m \u001b[0mValueError\u001b[0m\u001b[0;34m(\u001b[0m\u001b[0;34m\"x and y must be the same size\"\u001b[0m\u001b[0;34m)\u001b[0m\u001b[0;34m\u001b[0m\u001b[0;34m\u001b[0m\u001b[0m\n\u001b[0m\u001b[1;32m   4479\u001b[0m \u001b[0;34m\u001b[0m\u001b[0m\n\u001b[1;32m   4480\u001b[0m         \u001b[0;32mif\u001b[0m \u001b[0ms\u001b[0m \u001b[0;32mis\u001b[0m \u001b[0;32mNone\u001b[0m\u001b[0;34m:\u001b[0m\u001b[0;34m\u001b[0m\u001b[0;34m\u001b[0m\u001b[0m\n",
      "\u001b[0;31mValueError\u001b[0m: x and y must be the same size"
     ]
    },
    {
     "data": {
      "image/png": "[encoded data removed]",
      "text/plain": [
       "<Figure size 432x288 with 1 Axes>"
      ]
     },
     "metadata": {
      "needs_background": "light"
     },
     "output_type": "display_data"
    }
   ],
   "source": [
    "time_array = []\n",
    "for i in range(1):\n",
    "    begin = time.time()\n",
    "    output = net(image.reshape(1,h,w).unsqueeze(0).to(torch.float32))\n",
    "    cost_out, pred = reg(output, output)\n",
    "    end = time.time()\n",
    "    time_array.append(end-begin)\n",
    "#print(f\"Total runtime of the Obelisk Net is {(end - begin)} for one image \\nThat means {25*(end - begin)} for 25 images\")\n",
    "plt.scatter(np.arange(1000), time_array)"
   ]
  },
  {
   "cell_type": "code",
   "execution_count": 72,
   "id": "70b524ad",
   "metadata": {},
   "outputs": [
    {
     "name": "stdout",
     "output_type": "stream",
     "text": [
      "Mean inference time:  0.03438071346282959\n",
      "Variance:  1.955802822584701e-06\n"
     ]
    }
   ],
   "source": [
    "print(\"Mean inference time: \", np.asarray(time_array).mean())\n",
    "print(\"Variance: \", np.asarray(time_array).var())"
   ]
  },
  {
   "cell_type": "markdown",
   "id": "c3381a7b",
   "metadata": {},
   "source": [
    "Mean infeence time is around 0.034 seconds. Some variance, as seen in the plot. Might be due to background programs"
   ]
  },
  {
   "cell_type": "code",
   "execution_count": 17,
   "id": "edacbb90",
   "metadata": {},
   "outputs": [
    {
     "name": "stdout",
     "output_type": "stream",
     "text": [
      "torch.Size([1, 14, 32, 121])\n",
      "torch.Size([1, 14, 32, 121])\n",
      "torch.Size([1, 14, 32, 121])\n",
      "torch.Size([1, 14, 32, 121])\n",
      "torch.Size([1, 14, 32, 121])\n",
      "torch.Size([1, 14, 32, 121])\n",
      "torch.Size([1, 14, 32, 121])\n",
      "torch.Size([1, 14, 32, 121])\n",
      "torch.Size([1, 14, 32, 121])\n",
      "torch.Size([1, 14, 32, 121])\n",
      "torch.Size([1, 14, 32, 121])\n",
      "torch.Size([1, 14, 32, 121])\n",
      "torch.Size([1, 14, 32, 121])\n",
      "torch.Size([1, 14, 32, 121])\n",
      "torch.Size([1, 14, 32, 121])\n",
      "torch.Size([1, 14, 32, 121])\n",
      "torch.Size([1, 14, 32, 121])\n",
      "torch.Size([1, 14, 32, 121])\n",
      "torch.Size([1, 14, 32, 121])\n",
      "torch.Size([1, 14, 32, 121])\n",
      "torch.Size([1, 14, 32, 121])\n",
      "torch.Size([1, 14, 32, 121])\n",
      "torch.Size([1, 14, 32, 121])\n",
      "torch.Size([1, 14, 32, 121])\n",
      "torch.Size([1, 14, 32, 121])\n",
      "torch.Size([1, 14, 32, 121])\n",
      "torch.Size([1, 14, 32, 121])\n",
      "torch.Size([1, 14, 32, 121])\n",
      "torch.Size([1, 14, 32, 121])\n",
      "torch.Size([1, 14, 32, 121])\n",
      "torch.Size([1, 14, 32, 121])\n",
      "torch.Size([1, 14, 32, 121])\n",
      "torch.Size([32, 32, 2])\n",
      "torch.Size([1024, 121])\n"
     ]
    }
   ],
   "source": [
    "cost_out, pred = reg(output, output)\n",
    "print(pred.view(grid_size,grid_size,2).shape)\n",
    "print(cost_out.shape)"
   ]
  },
  {
   "cell_type": "code",
   "execution_count": 8,
   "id": "8e74b3b6",
   "metadata": {},
   "outputs": [],
   "source": [
    "resized = cv2.resize(pred.reshape(grid_size,grid_size,2).detach().numpy(),(h,w))\n",
    "flow_img = flow2img(resized)"
   ]
  },
  {
   "cell_type": "code",
   "execution_count": 9,
   "id": "4742085d",
   "metadata": {},
   "outputs": [
    {
     "data": {
      "text/plain": [
       "<matplotlib.image.AxesImage at 0x7f6d9a7cfa90>"
      ]
     },
     "execution_count": 9,
     "metadata": {},
     "output_type": "execute_result"
    },
    {
     "data": {
      "image/png": "[encoded data removed]",
      "text/plain": [
       "<Figure size 432x288 with 1 Axes>"
      ]
     },
     "metadata": {
      "needs_background": "light"
     },
     "output_type": "display_data"
    }
   ],
   "source": [
    "plt.imshow(flow_img)"
   ]
  },
  {
   "cell_type": "markdown",
   "id": "ce3d526f",
   "metadata": {},
   "source": [
    "Obviously this is nonesense, but the flow is there.. not sure about the upscaling though.."
   ]
  },
  {
   "cell_type": "code",
   "execution_count": 10,
   "id": "3836793d",
   "metadata": {},
   "outputs": [
    {
     "name": "stdout",
     "output_type": "stream",
     "text": [
      "torch.Size([1, 1, 1024, 121])\n",
      "torch.Size([1, 1, 1024, 121])\n"
     ]
    }
   ],
   "source": [
    "# NOT SURE about this cell. If it does any good\n",
    "\n",
    "segmen_grid = F.grid_sample(segmen.unsqueeze(0).unsqueeze(0),grid_xy+shift_xy,padding_mode='border')\n",
    "print(segmen_grid.shape)\n",
    "print(cost_out.view(1,-1,grid_size**2,displacement_width**2).shape)\n",
    "warped = segmen_grid * cost_out.view(1,-1,grid_size**2,displacement_width**2)\n",
    "#warped_label = (F.grid_sample(segmen.unsqueeze(0).unsqueeze(0),grid_xy+shift_xy,padding_mode='border') *cost_out.view(1,-1,grid_size**2,displacement_width**2)).sum(3,keepdim=True)"
   ]
  },
  {
   "cell_type": "markdown",
   "id": "0569ed88",
   "metadata": {},
   "source": [
    "## Train the network for 2D Input"
   ]
  },
  {
   "cell_type": "code",
   "execution_count": 7,
   "id": "8db91bdc",
   "metadata": {},
   "outputs": [],
   "source": [
    "def init_weights(m):\n",
    "    if isinstance(m, nn.Linear) or isinstance(m, nn.Conv3d) or isinstance(m, nn.ConvTranspose2d) or isinstance(m, nn.Conv2d) or isinstance(m, nn.Conv1d):\n",
    "        nn.init.xavier_normal(m.weight)\n",
    "        if m.bias is not None:\n",
    "            nn.init.constant(m.bias, 0.0)\n",
    "\n",
    "def augmentAffine(img_in, seg_in, strength=0.05):\n",
    "    \"\"\"\n",
    "    3D affine augmentation on image and segmentation mini-batch on GPU.\n",
    "    (affine transf. is centered: trilinear interpolation and zero-padding used for sampling)\n",
    "    :input: img_in batch (torch.cuda.FloatTensor), seg_in batch (torch.cuda.LongTensor)\n",
    "    :return: augmented BxCxTxHxW image batch (torch.cuda.FloatTensor), augmented BxTxHxW seg batch (torch.cuda.LongTensor)\n",
    "    \"\"\"\n",
    "    B,C,H,W = img_in.size()\n",
    "    affine_matrix = (torch.eye(2,3).unsqueeze(0) + torch.randn(B, 2, 3) * strength)#.to(img_in.device)\n",
    "\n",
    "    meshgrid = F.affine_grid(affine_matrix,torch.Size((B,1,H,W)))\n",
    "\n",
    "    img_out = F.grid_sample(img_in.float(), meshgrid,padding_mode='border')\n",
    "    seg_out = F.grid_sample(seg_in.float().unsqueeze(1), meshgrid, mode='nearest').long().squeeze(1)\n",
    "\n",
    "    return img_out, seg_out"
   ]
  },
  {
   "cell_type": "code",
   "execution_count": 8,
   "id": "130b76b4",
   "metadata": {},
   "outputs": [
    {
     "name": "stdout",
     "output_type": "stream",
     "text": [
      "Test_Set: tensor([35, 41,  0,  4, 33, 38, 39, 17])\n",
      "Train_Set: tensor([ 1,  2,  3,  5,  6,  7,  8,  9, 10, 11, 12, 13, 14, 15, 16, 18, 19, 20,\n",
      "        21, 22, 23, 24, 25, 26, 27, 28, 29, 30, 31, 32, 34, 36, 37, 40, 42])\n"
     ]
    }
   ],
   "source": [
    "torch.manual_seed(10)\n",
    "\n",
    "pat_indices = torch.cat((torch.arange(0, 17), torch.arange(18, 43)), 0)\n",
    "\n",
    "rnd_perm_idc = torch.randperm(pat_indices.size(0))\n",
    "pat_indices = pat_indices[rnd_perm_idc]\n",
    "# train_set = pat_indices[:35]\n",
    "# test_set = torch.cat((pat_indices[35:],torch.LongTensor([17])),0)\n",
    "\n",
    "# Now, we prepare our train & test dataset.\n",
    "test_set = torch.LongTensor([35, 41, 0, 4, 33, 38, 39, 17])\n",
    "train_set = torch.arange(43)\n",
    "for idx in test_set:\n",
    "    train_set = train_set[train_set != idx]\n",
    "\n",
    "print('Test_Set:', test_set)\n",
    "print('Train_Set:', train_set)"
   ]
  },
  {
   "cell_type": "code",
   "execution_count": 14,
   "id": "1f4f7b59",
   "metadata": {},
   "outputs": [
    {
     "name": "stdout",
     "output_type": "stream",
     "text": [
      "inv sqrt class_weight tensor([0.1500, 0.1535, 0.1800, 0.3199, 7.6096, 0.0681, 0.1290, 0.2074, 0.3098])\n"
     ]
    },
    {
     "name": "stderr",
     "output_type": "stream",
     "text": [
      "<ipython-input-7-7d54f1414354>:3: UserWarning: nn.init.xavier_normal is now deprecated in favor of nn.init.xavier_normal_.\n",
      "  nn.init.xavier_normal(m.weight)\n",
      "<ipython-input-7-7d54f1414354>:5: UserWarning: nn.init.constant is now deprecated in favor of nn.init.constant_.\n",
      "  nn.init.constant(m.bias, 0.0)\n"
     ]
    }
   ],
   "source": [
    "net = OBELISK2d()\n",
    "net.apply(init_weights)\n",
    "net.train()\n",
    "\n",
    "reg = deeds2d()\n",
    "\n",
    "H, W = img[0].size()\n",
    "\n",
    "class_weight = torch.sqrt(1.0/(torch.bincount(seg.view(-1)).float()))\n",
    "class_weight = class_weight/class_weight.mean()\n",
    "class_weight[0] = 0.15\n",
    "#class_weight[4] /= 10\n",
    "print('inv sqrt class_weight',class_weight)\n",
    "criterion = nn.CrossEntropyLoss(class_weight)\n",
    "\n",
    "epochs = 1000\n",
    "optimizer = torch.optim.Adam(list(net.parameters())+list(reg.parameters()),lr=0.0005)\n",
    "lambda_weight = 1.5#2#2.5#1.5\n",
    "run_labelloss = torch.zeros(epochs)#/0\n",
    "run_diffloss = torch.zeros(epochs)"
   ]
  },
  {
   "cell_type": "code",
   "execution_count": 15,
   "id": "56812e24",
   "metadata": {
    "tags": []
   },
   "outputs": [
    {
     "name": "stdout",
     "output_type": "stream",
     "text": [
      "run_labelloss 0.006343366\n",
      "run_diffloss 0.0011852585\n",
      "run_labelloss 0.0060913004\n",
      "run_diffloss 0.00038940512\n",
      "run_labelloss 0.006406896\n",
      "run_diffloss 0.00019256669\n",
      "run_labelloss 0.0063156723\n",
      "run_diffloss 0.00016666915\n",
      "run_labelloss 0.0063293697\n",
      "run_diffloss 0.00014585328\n",
      "run_labelloss 0.006331064\n",
      "run_diffloss 8.346299e-05\n",
      "run_labelloss 0.0060716416\n",
      "run_diffloss 8.4626474e-05\n",
      "run_labelloss 0.006085858\n",
      "run_diffloss 8.495875e-05\n",
      "run_labelloss 0.0062939166\n",
      "run_diffloss 4.952103e-05\n",
      "run_labelloss 0.0060563236\n",
      "run_diffloss 4.5558903e-05\n",
      "run_labelloss nan\n",
      "run_diffloss nan\n",
      "run_labelloss nan\n",
      "run_diffloss nan\n",
      "run_labelloss nan\n",
      "run_diffloss nan\n",
      "run_labelloss nan\n",
      "run_diffloss nan\n",
      "run_labelloss nan\n",
      "run_diffloss nan\n",
      "run_labelloss nan\n",
      "run_diffloss nan\n"
     ]
    },
    {
     "ename": "KeyboardInterrupt",
     "evalue": "",
     "output_type": "error",
     "traceback": [
      "\u001b[0;31m---------------------------------------------------------------------------\u001b[0m",
      "\u001b[0;31mKeyboardInterrupt\u001b[0m                         Traceback (most recent call last)",
      "\u001b[0;32m<ipython-input-15-6b1efa54f4fa>\u001b[0m in \u001b[0;36m<module>\u001b[0;34m\u001b[0m\n\u001b[1;32m     41\u001b[0m     \u001b[0;31m#labelloss = criterion(nonlocal_label,fixed_label)\u001b[0m\u001b[0;34m\u001b[0m\u001b[0;34m\u001b[0m\u001b[0;34m\u001b[0m\u001b[0m\n\u001b[1;32m     42\u001b[0m     \u001b[0mrun_labelloss\u001b[0m\u001b[0;34m[\u001b[0m\u001b[0mi\u001b[0m\u001b[0;34m]\u001b[0m \u001b[0;34m=\u001b[0m \u001b[0mlabelloss\u001b[0m\u001b[0;34m.\u001b[0m\u001b[0mitem\u001b[0m\u001b[0;34m(\u001b[0m\u001b[0;34m)\u001b[0m\u001b[0;34m\u001b[0m\u001b[0;34m\u001b[0m\u001b[0m\n\u001b[0;32m---> 43\u001b[0;31m     \u001b[0;34m(\u001b[0m\u001b[0mlabelloss\u001b[0m\u001b[0;34m+\u001b[0m\u001b[0mdiffloss\u001b[0m\u001b[0;34m)\u001b[0m\u001b[0;34m.\u001b[0m\u001b[0mbackward\u001b[0m\u001b[0;34m(\u001b[0m\u001b[0;34m)\u001b[0m\u001b[0;34m\u001b[0m\u001b[0;34m\u001b[0m\u001b[0m\n\u001b[0m\u001b[1;32m     44\u001b[0m \u001b[0;34m\u001b[0m\u001b[0m\n\u001b[1;32m     45\u001b[0m     \u001b[0moptimizer\u001b[0m\u001b[0;34m.\u001b[0m\u001b[0mstep\u001b[0m\u001b[0;34m(\u001b[0m\u001b[0;34m)\u001b[0m\u001b[0;34m\u001b[0m\u001b[0;34m\u001b[0m\u001b[0m\n",
      "\u001b[0;32m~/envs/anaconda3/envs/uni/lib/python3.9/site-packages/torch/tensor.py\u001b[0m in \u001b[0;36mbackward\u001b[0;34m(self, gradient, retain_graph, create_graph, inputs)\u001b[0m\n\u001b[1;32m    243\u001b[0m                 \u001b[0mcreate_graph\u001b[0m\u001b[0;34m=\u001b[0m\u001b[0mcreate_graph\u001b[0m\u001b[0;34m,\u001b[0m\u001b[0;34m\u001b[0m\u001b[0;34m\u001b[0m\u001b[0m\n\u001b[1;32m    244\u001b[0m                 inputs=inputs)\n\u001b[0;32m--> 245\u001b[0;31m         \u001b[0mtorch\u001b[0m\u001b[0;34m.\u001b[0m\u001b[0mautograd\u001b[0m\u001b[0;34m.\u001b[0m\u001b[0mbackward\u001b[0m\u001b[0;34m(\u001b[0m\u001b[0mself\u001b[0m\u001b[0;34m,\u001b[0m \u001b[0mgradient\u001b[0m\u001b[0;34m,\u001b[0m \u001b[0mretain_graph\u001b[0m\u001b[0;34m,\u001b[0m \u001b[0mcreate_graph\u001b[0m\u001b[0;34m,\u001b[0m \u001b[0minputs\u001b[0m\u001b[0;34m=\u001b[0m\u001b[0minputs\u001b[0m\u001b[0;34m)\u001b[0m\u001b[0;34m\u001b[0m\u001b[0;34m\u001b[0m\u001b[0m\n\u001b[0m\u001b[1;32m    246\u001b[0m \u001b[0;34m\u001b[0m\u001b[0m\n\u001b[1;32m    247\u001b[0m     \u001b[0;32mdef\u001b[0m \u001b[0mregister_hook\u001b[0m\u001b[0;34m(\u001b[0m\u001b[0mself\u001b[0m\u001b[0;34m,\u001b[0m \u001b[0mhook\u001b[0m\u001b[0;34m)\u001b[0m\u001b[0;34m:\u001b[0m\u001b[0;34m\u001b[0m\u001b[0;34m\u001b[0m\u001b[0m\n",
      "\u001b[0;32m~/envs/anaconda3/envs/uni/lib/python3.9/site-packages/torch/autograd/__init__.py\u001b[0m in \u001b[0;36mbackward\u001b[0;34m(tensors, grad_tensors, retain_graph, create_graph, grad_variables, inputs)\u001b[0m\n\u001b[1;32m    143\u001b[0m         \u001b[0mretain_graph\u001b[0m \u001b[0;34m=\u001b[0m \u001b[0mcreate_graph\u001b[0m\u001b[0;34m\u001b[0m\u001b[0;34m\u001b[0m\u001b[0m\n\u001b[1;32m    144\u001b[0m \u001b[0;34m\u001b[0m\u001b[0m\n\u001b[0;32m--> 145\u001b[0;31m     Variable._execution_engine.run_backward(\n\u001b[0m\u001b[1;32m    146\u001b[0m         \u001b[0mtensors\u001b[0m\u001b[0;34m,\u001b[0m \u001b[0mgrad_tensors_\u001b[0m\u001b[0;34m,\u001b[0m \u001b[0mretain_graph\u001b[0m\u001b[0;34m,\u001b[0m \u001b[0mcreate_graph\u001b[0m\u001b[0;34m,\u001b[0m \u001b[0minputs\u001b[0m\u001b[0;34m,\u001b[0m\u001b[0;34m\u001b[0m\u001b[0;34m\u001b[0m\u001b[0m\n\u001b[1;32m    147\u001b[0m         allow_unreachable=True, accumulate_grad=True)  # allow_unreachable flag\n",
      "\u001b[0;31mKeyboardInterrupt\u001b[0m: "
     ]
    }
   ],
   "source": [
    "for i in range(epochs):\n",
    "    \n",
    "    idx = train_set[torch.randperm(6)].view(2,3)[:,0]\n",
    "    \n",
    "    optimizer.zero_grad()\n",
    "\n",
    "    label_moving = torch.zeros(size=(1,9,H,W))\n",
    "    label_moving = label_moving.scatter_(1, seg[idx[1]:idx[1]+1,:,:].type(torch.int64).unsqueeze(1), 1)\n",
    "\n",
    "    img00_in = img[idx[0]:idx[0]+1,:,:].unsqueeze(0).float() / 255\n",
    "    img50 = img[idx[1]:idx[1]+1,:,:].unsqueeze(0).float() / 255\n",
    "\n",
    "    img00, seg50 = augmentAffine(img00_in,seg[idx[0]:idx[0]+1,:,:],0.0375)\n",
    "    img00.requires_grad = True\n",
    "    img50.requires_grad = True\n",
    "\n",
    "    label_fixed = torch.zeros(size=(1,9,H,W))\n",
    "    label_fixed = label_fixed.scatter_(1, seg50.unsqueeze(1), 1)\n",
    "\n",
    "    # get features (regular grid)\n",
    "    feat00 = net(img00)#checkpoint(net,img00)#net(img00)# #00 is fixed\n",
    "    feat50 = net(img50)#checkpoint(net,img50)#net(img50)# #50 is moving\n",
    "    # run differentiable deeds (regular grid)\n",
    "    cost_soft,pred_xy =  reg(feat00,feat50)#checkpoint(reg,feat00,feat50)#reg(feat00,feat50)#\n",
    "    pred_xy = pred_xy.view(1,grid_size,grid_size,2)\n",
    "    # evaluate diffusion regularisation loss\n",
    "    \n",
    "    diffloss = lambda_weight*((pred_xy[0,:,1:,:]-pred_xy[0,:,:-1,:])**2).mean()+\\\n",
    "            lambda_weight*((pred_xy[0,1:,:,:]-pred_xy[0,:-1,:,:])**2).mean()+\\\n",
    "            lambda_weight*((pred_xy[0,:,:,1:]-pred_xy[0,:,:,:-1])**2).mean()\n",
    "    run_diffloss[i] = diffloss.item()\n",
    "\n",
    "\n",
    "    # evaluate non-local loss\n",
    "    nonlocal_label = (F.grid_sample(label_moving,grid_xy+shift_xy,padding_mode='border')\\\n",
    "                          *cost_soft.view(1,-1,grid_size**2,displacement_width**2)).sum(1,keepdim=True)\n",
    "    fixed_label = F.grid_sample(label_fixed,grid_xy,padding_mode='border')#.long().squeeze(1)\n",
    "\n",
    "    labelloss = ((nonlocal_label-fixed_label)**2)*class_weight.view(1,-1,1,1)\n",
    "    labelloss = labelloss.mean()\n",
    "    #labelloss = criterion(nonlocal_label,fixed_label)\n",
    "    run_labelloss[i] = labelloss.item()\n",
    "    (labelloss+diffloss).backward()\n",
    "    \n",
    "    optimizer.step()\n",
    "    if(i%50==49):\n",
    "\n",
    "        loss_avg = F.avg_pool1d(run_labelloss.view(1,1,-1),5,stride=1).squeeze().numpy()[:i]\n",
    "        print('run_labelloss',loss_avg[-1])\n",
    "        loss_avg = F.avg_pool1d(run_diffloss.view(1,1,-1),5,stride=1).squeeze().numpy()[:i]\n",
    "        print('run_diffloss',loss_avg[-1])"
   ]
  },
  {
   "cell_type": "code",
   "execution_count": null,
   "id": "fd46f575",
   "metadata": {},
   "outputs": [],
   "source": [
    "plt.plot(np.arange(epochs), run_diffloss)"
   ]
  },
  {
   "cell_type": "code",
   "execution_count": null,
   "id": "382c44f4",
   "metadata": {},
   "outputs": [],
   "source": [
    "plt.plot(np.arange(epochs), run_labelloss)"
   ]
  },
  {
   "cell_type": "code",
   "execution_count": 15,
   "id": "1437c641",
   "metadata": {},
   "outputs": [
    {
     "data": {
      "text/plain": [
       "torch.Size([320, 256, 1])"
      ]
     },
     "execution_count": 15,
     "metadata": {},
     "output_type": "execute_result"
    }
   ],
   "source": [
    "random_test = test_set[torch.randperm(6)].view(2,3)[:,0]\n",
    "test_img_1 = img[random_test[0]:random_test[0]+1,:,:].unsqueeze(0).float() / 255\n",
    "test_img_2 = img[random_test[1]:random_test[1]+1,:,:].unsqueeze(0).float() / 255\n",
    "\n",
    "label_1= seg[random_test[0]:random_test[0]+1,:,:]\n",
    "label_2= seg[random_test[1]:random_test[1]+1,:,:]\n",
    "label_2.view(h,w,-1).shape"
   ]
  },
  {
   "cell_type": "code",
   "execution_count": 16,
   "id": "00a068b8",
   "metadata": {},
   "outputs": [],
   "source": [
    "fixed = net(test_img_1)\n",
    "moving = net(test_img_2)\n",
    "\n",
    "test_cost_xy, test_pred_xy = reg(fixed,moving) "
   ]
  },
  {
   "cell_type": "code",
   "execution_count": 17,
   "id": "d33f1acf",
   "metadata": {},
   "outputs": [],
   "source": [
    "test_pred_xy = test_pred_xy.view(1,grid_size,grid_size,2)"
   ]
  },
  {
   "cell_type": "code",
   "execution_count": 18,
   "id": "69d6826a",
   "metadata": {},
   "outputs": [],
   "source": [
    "#resized = cv2.resize(test_pred_xy.reshape(grid_size,grid_size,2).detach().numpy(),(w,h))\n",
    "resized = F.interpolate(test_pred_xy,scale_factor=4,mode='bicubic')\n",
    "flow_img = flow2img(resized)"
   ]
  },
  {
   "cell_type": "code",
   "execution_count": 19,
   "id": "912e28de",
   "metadata": {},
   "outputs": [
    {
     "data": {
      "text/plain": [
       "(320, 256, 2)"
      ]
     },
     "execution_count": 19,
     "metadata": {},
     "output_type": "execute_result"
    }
   ],
   "source": [
    "resized.shape"
   ]
  },
  {
   "cell_type": "code",
   "execution_count": 20,
   "id": "81b57131",
   "metadata": {},
   "outputs": [
    {
     "data": {
      "text/plain": [
       "<matplotlib.image.AxesImage at 0x7f11c1b87910>"
      ]
     },
     "execution_count": 20,
     "metadata": {},
     "output_type": "execute_result"
    },
    {
     "data": {
      "image/png": "[encoded data removed]",
      "text/plain": [
       "<Figure size 432x288 with 1 Axes>"
      ]
     },
     "metadata": {
      "needs_background": "light"
     },
     "output_type": "display_data"
    }
   ],
   "source": [
    "plt.imshow(flow_img)"
   ]
  },
  {
   "cell_type": "code",
   "execution_count": 21,
   "id": "46cc5034",
   "metadata": {},
   "outputs": [
    {
     "data": {
      "text/plain": [
       "torch.Size([2, 320, 256])"
      ]
     },
     "execution_count": 21,
     "metadata": {},
     "output_type": "execute_result"
    }
   ],
   "source": [
    "resized = torch.from_numpy(resized).reshape(2,h,w)\n",
    "resized.shape"
   ]
  },
  {
   "cell_type": "code",
   "execution_count": 22,
   "id": "48a027d1",
   "metadata": {},
   "outputs": [
    {
     "data": {
      "text/plain": [
       "torch.Size([1, 1, 320, 256])"
      ]
     },
     "execution_count": 22,
     "metadata": {},
     "output_type": "execute_result"
    }
   ],
   "source": [
    "target = label_2.view(1,1,h,w).float()\n",
    "target.shape"
   ]
  },
  {
   "cell_type": "code",
   "execution_count": 23,
   "id": "1d8ec39a",
   "metadata": {},
   "outputs": [],
   "source": [
    "warped_seg_2 = warp(target.cuda(), resized.cuda()).cpu()"
   ]
  },
  {
   "cell_type": "code",
   "execution_count": 24,
   "id": "f4346453",
   "metadata": {},
   "outputs": [
    {
     "data": {
      "text/plain": [
       "<matplotlib.image.AxesImage at 0x7f11c10f40a0>"
      ]
     },
     "execution_count": 24,
     "metadata": {},
     "output_type": "execute_result"
    },
    {
     "data": {
      "image/png": "[encoded data removed]",
      "text/plain": [
       "<Figure size 432x288 with 1 Axes>"
      ]
     },
     "metadata": {
      "needs_background": "light"
     },
     "output_type": "display_data"
    }
   ],
   "source": [
    "plt.imshow(overlaySegment(test_img_1.squeeze(),warped_seg_2.squeeze() ,False).numpy())"
   ]
  },
  {
   "cell_type": "markdown",
   "id": "888aaf9e",
   "metadata": {},
   "source": [
    "# Exploration 20.05\n",
    "try to figure out how to upscale the pred_xy from the network"
   ]
  },
  {
   "cell_type": "code",
   "execution_count": 1,
   "id": "ea85e372",
   "metadata": {},
   "outputs": [
    {
     "name": "stderr",
     "output_type": "stream",
     "text": [
      "/home/till/envs/anaconda3/envs/uni/lib/python3.9/site-packages/torch/nn/functional.py:3890: UserWarning: Default grid_sample and affine_grid behavior has changed to align_corners=False since 1.3.0. Please specify align_corners=True if the old behavior is desired. See the documentation of grid_sample for details.\n",
      "  warnings.warn(\n"
     ]
    }
   ],
   "source": [
    "import torch\n",
    "import torch.nn.functional as F\n",
    "\n",
    "import numpy as np\n",
    "import cv2\n",
    "from math import ceil\n",
    "import matplotlib.pyplot as plt\n",
    "\n",
    "from utils.preprocessing import preprocessing_flownet, preprocessing_pwc\n",
    "from utils.load_models import load_flownet2, load_pwcnet\n",
    "from utils.plotting import flow2img\n",
    "\n",
    "from models.pdd_net.pdd_student import OBELISK2d, deeds2d"
   ]
  },
  {
   "cell_type": "code",
   "execution_count": 2,
   "id": "e9b9d138",
   "metadata": {},
   "outputs": [],
   "source": [
    "net = OBELISK2d()\n",
    "reg = deeds2d()"
   ]
  },
  {
   "cell_type": "code",
   "execution_count": 3,
   "id": "926dae26",
   "metadata": {},
   "outputs": [],
   "source": [
    "img = torch.load(\"Data/img.pth\")/255\n",
    "segs = torch.load(\"Data/seg.pth\")"
   ]
  },
  {
   "cell_type": "code",
   "execution_count": 57,
   "id": "ac1a1a19",
   "metadata": {},
   "outputs": [],
   "source": [
    "fix = 10; mov = 11\n",
    "fixed = img[fix:fix+1,:,:] / 255\n",
    "moving = img[mov:mov+1,:,:] / 255\n",
    "\n",
    "segs_fixed = segs[fix:fix+1,:,:]\n",
    "segs_moving = segs[mov:mov+1,:,:]"
   ]
  },
  {
   "cell_type": "code",
   "execution_count": 89,
   "id": "b7a497ba",
   "metadata": {},
   "outputs": [
    {
     "data": {
      "text/plain": [
       "torch.Size([1, 320, 256])"
      ]
     },
     "execution_count": 89,
     "metadata": {},
     "output_type": "execute_result"
    }
   ],
   "source": [
    "fixed.shape"
   ]
  },
  {
   "cell_type": "code",
   "execution_count": 91,
   "id": "55324a8b",
   "metadata": {},
   "outputs": [],
   "source": [
    "inter = F.interpolate(fixed.unsqueeze(0), size=(120,120))"
   ]
  },
  {
   "cell_type": "code",
   "execution_count": 92,
   "id": "a9dad91a",
   "metadata": {},
   "outputs": [
    {
     "data": {
      "text/plain": [
       "torch.Size([1, 1, 120, 120])"
      ]
     },
     "execution_count": 92,
     "metadata": {},
     "output_type": "execute_result"
    }
   ],
   "source": [
    "inter.shape"
   ]
  },
  {
   "cell_type": "code",
   "execution_count": 95,
   "id": "9902350f",
   "metadata": {},
   "outputs": [],
   "source": [
    "feat00 = net(F.interpolate(fixed.unsqueeze(0), size=(120,120)))\n",
    "feat50 = net(F.interpolate(moving.unsqueeze(0), size=(120,120)))\n",
    "\n",
    "cost_soft, pred_xy = reg(feat00,feat50)"
   ]
  },
  {
   "cell_type": "code",
   "execution_count": 96,
   "id": "4e6fe120",
   "metadata": {},
   "outputs": [
    {
     "data": {
      "text/plain": [
       "torch.Size([1024, 121])"
      ]
     },
     "execution_count": 96,
     "metadata": {},
     "output_type": "execute_result"
    }
   ],
   "source": [
    "cost_soft.shape"
   ]
  },
  {
   "cell_type": "code",
   "execution_count": 97,
   "id": "9b1916ac",
   "metadata": {},
   "outputs": [
    {
     "data": {
      "text/plain": [
       "torch.Size([1024, 2])"
      ]
     },
     "execution_count": 97,
     "metadata": {},
     "output_type": "execute_result"
    }
   ],
   "source": [
    "pred_xy.shape"
   ]
  },
  {
   "cell_type": "code",
   "execution_count": 98,
   "id": "8edac590",
   "metadata": {},
   "outputs": [
    {
     "name": "stderr",
     "output_type": "stream",
     "text": [
      "/home/till/envs/anaconda3/envs/uni/lib/python3.9/site-packages/torch/nn/functional.py:3890: UserWarning: Default grid_sample and affine_grid behavior has changed to align_corners=False since 1.3.0. Please specify align_corners=True if the old behavior is desired. See the documentation of grid_sample for details.\n",
      "  warnings.warn(\n"
     ]
    }
   ],
   "source": [
    "grid_size = 32#25#30\n",
    "grid_xy = F.affine_grid(torch.eye(2,3).unsqueeze(0),(1,1,grid_size,grid_size)).view(1,-1,1,2)\n",
    "\n",
    "disp_range = 0.25#0.25\n",
    "displacement_width = 11#15#11#17\n",
    "shift_xy = F.affine_grid(disp_range*torch.eye(2,3).unsqueeze(0),(1,1,displacement_width,displacement_width)).view(1,1,-1,2)"
   ]
  },
  {
   "cell_type": "code",
   "execution_count": 99,
   "id": "dca5b8fb",
   "metadata": {},
   "outputs": [
    {
     "ename": "RuntimeError",
     "evalue": "The size of tensor a (1024) must match the size of tensor b (121) at non-singleton dimension 3",
     "output_type": "error",
     "traceback": [
      "\u001b[0;31m---------------------------------------------------------------------------\u001b[0m",
      "\u001b[0;31mRuntimeError\u001b[0m                              Traceback (most recent call last)",
      "\u001b[0;32m<ipython-input-99-30008e674510>\u001b[0m in \u001b[0;36m<module>\u001b[0;34m\u001b[0m\n\u001b[0;32m----> 1\u001b[0;31m test = (F.grid_sample(seg_moving,grid_xy+shift_xy,padding_mode='border')\\\n\u001b[0m\u001b[1;32m      2\u001b[0m                           *cost_soft.view(1,-1,32**2,11**2,1)).sum()\n",
      "\u001b[0;31mRuntimeError\u001b[0m: The size of tensor a (1024) must match the size of tensor b (121) at non-singleton dimension 3"
     ]
    }
   ],
   "source": [
    "test = (F.grid_sample(seg_moving,grid_xy+shift_xy,padding_mode='border')\\\n",
    "                          *cost_soft.view(1,-1,32**2,11**2,1)).sum()"
   ]
  },
  {
   "cell_type": "code",
   "execution_count": 100,
   "id": "042f4f0e",
   "metadata": {},
   "outputs": [
    {
     "data": {
      "text/plain": [
       "torch.Size([1, 8, 320, 256])"
      ]
     },
     "execution_count": 100,
     "metadata": {},
     "output_type": "execute_result"
    }
   ],
   "source": [
    "seg_moving.shape"
   ]
  },
  {
   "cell_type": "code",
   "execution_count": 101,
   "id": "f11eb869",
   "metadata": {},
   "outputs": [
    {
     "data": {
      "text/plain": [
       "torch.Size([1, 1024, 121, 2])"
      ]
     },
     "execution_count": 101,
     "metadata": {},
     "output_type": "execute_result"
    }
   ],
   "source": [
    "a = grid_xy+shift_xy\n",
    "a.shape"
   ]
  },
  {
   "cell_type": "code",
   "execution_count": 69,
   "id": "32e5bafc",
   "metadata": {},
   "outputs": [],
   "source": [
    "test1 = F.grid_sample(seg_moving,grid_xy+shift_xy,padding_mode='border')"
   ]
  },
  {
   "cell_type": "code",
   "execution_count": 70,
   "id": "27de1cf9",
   "metadata": {},
   "outputs": [
    {
     "data": {
      "text/plain": [
       "torch.Size([1, 8, 1024, 121])"
      ]
     },
     "execution_count": 70,
     "metadata": {},
     "output_type": "execute_result"
    }
   ],
   "source": [
    "test1.shape"
   ]
  },
  {
   "cell_type": "code",
   "execution_count": 75,
   "id": "0d470aa5",
   "metadata": {},
   "outputs": [],
   "source": [
    "test2 = (test1* cost_soft).squeeze()"
   ]
  },
  {
   "cell_type": "code",
   "execution_count": 76,
   "id": "0fa7fd7b",
   "metadata": {},
   "outputs": [
    {
     "data": {
      "text/plain": [
       "torch.Size([8, 1024, 121])"
      ]
     },
     "execution_count": 76,
     "metadata": {},
     "output_type": "execute_result"
    }
   ],
   "source": [
    "test2.shape"
   ]
  },
  {
   "cell_type": "code",
   "execution_count": 102,
   "id": "83f16cb3",
   "metadata": {},
   "outputs": [
    {
     "ename": "RuntimeError",
     "evalue": "shape '[8, 120, -1]' is invalid for input of size 991232",
     "output_type": "error",
     "traceback": [
      "\u001b[0;31m---------------------------------------------------------------------------\u001b[0m",
      "\u001b[0;31mRuntimeError\u001b[0m                              Traceback (most recent call last)",
      "\u001b[0;32m<ipython-input-102-189bf898e744>\u001b[0m in \u001b[0;36m<module>\u001b[0;34m\u001b[0m\n\u001b[0;32m----> 1\u001b[0;31m \u001b[0mtest2\u001b[0m\u001b[0;34m.\u001b[0m\u001b[0mview\u001b[0m\u001b[0;34m(\u001b[0m\u001b[0;36m8\u001b[0m\u001b[0;34m,\u001b[0m\u001b[0;36m120\u001b[0m\u001b[0;34m,\u001b[0m\u001b[0;34m-\u001b[0m\u001b[0;36m1\u001b[0m\u001b[0;34m)\u001b[0m\u001b[0;34m.\u001b[0m\u001b[0mshape\u001b[0m\u001b[0;34m\u001b[0m\u001b[0;34m\u001b[0m\u001b[0m\n\u001b[0m",
      "\u001b[0;31mRuntimeError\u001b[0m: shape '[8, 120, -1]' is invalid for input of size 991232"
     ]
    }
   ],
   "source": [
    "test2.view(8,120,-1).shape"
   ]
  },
  {
   "cell_type": "markdown",
   "id": "aac8fa7a",
   "metadata": {},
   "source": [
    "## Exploration 27.05\n",
    "explore 3D version"
   ]
  },
  {
   "cell_type": "code",
   "execution_count": 5,
   "id": "ef6587ab",
   "metadata": {},
   "outputs": [],
   "source": [
    "import torch\n",
    "import torch.nn.functional as F\n",
    "import torch.nn as nn"
   ]
  },
  {
   "cell_type": "code",
   "execution_count": 20,
   "id": "b807ce8b",
   "metadata": {},
   "outputs": [],
   "source": [
    "imgs = torch.load(\"Data/img.pth\")\n",
    "H,W,D = imgs.shape\n",
    "\n",
    "o_m = H//3\n",
    "o_n = W//3\n",
    "o_o = D//3\n",
    "#print('numel_o',o_m*o_n*o_o)\n",
    "ogrid_xyz = F.affine_grid(torch.eye(3,4).unsqueeze(0),(1,1,o_m,o_n,o_o)).view(1,1,-1,1,3)\n",
    "\n",
    "\n",
    "class OBELISK(nn.Module):\n",
    "    def __init__(self):\n",
    "\n",
    "        super(OBELISK, self).__init__()\n",
    "        channels = 24#16\n",
    "        self.offsets = nn.Parameter(torch.randn(2,channels*2,3)*0.05)\n",
    "        self.layer0 = nn.Conv3d(1, 4, 5, stride=2, bias=False, padding=2)\n",
    "        self.batch0 = nn.BatchNorm3d(4)\n",
    "\n",
    "        self.layer1 = nn.Conv3d(channels*8, channels*4, 1, bias=False, groups=1)\n",
    "        self.batch1 = nn.BatchNorm3d(channels*4)\n",
    "        self.layer2 = nn.Conv3d(channels*4, channels*4, 3, bias=False, padding=1)\n",
    "        self.batch2 = nn.BatchNorm3d(channels*4)\n",
    "        self.layer3 = nn.Conv3d(channels*4, channels*1, 1)\n",
    "\n",
    "\n",
    "    def forward(self, input_img):\n",
    "        img_in = F.avg_pool3d(input_img,3,padding=1,stride=2)\n",
    "        img_in = F.relu(self.batch0(self.layer0(img_in)))\n",
    "        sampled = F.grid_sample(img_in,ogrid_xyz + self.offsets[0,:,:].view(1,-1,1,1,3)).view(1,-1,o_m,o_n,o_o)\n",
    "        sampled -= F.grid_sample(img_in,ogrid_xyz + self.offsets[1,:,:].view(1,-1,1,1,3)).view(1,-1,o_m,o_n,o_o)\n",
    "    \n",
    "        x = F.relu(self.batch1(self.layer1(sampled)))\n",
    "        x = F.relu(self.batch2(self.layer2(x)))\n",
    "        features = self.layer3(x)\n",
    "        return features\n",
    "\n",
    "\n",
    "\n",
    "\n",
    "disp_range = 0.4#0.25\n",
    "displacement_width = 15#11#17\n",
    "shift_xyz = F.affine_grid(disp_range*torch.eye(3,4).unsqueeze(0),(1,1,displacement_width,displacement_width,displacement_width)).view(1,1,-1,1,3)#.cuda()\n",
    "\n",
    "grid_size = 32#25#30\n",
    "grid_xyz = F.affine_grid(torch.eye(3,4).unsqueeze(0),(1,1,grid_size,grid_size,grid_size)).view(1,-1,1,1,3)#.cuda()\n",
    "\n",
    "class deeds(nn.Module):\n",
    "    def __init__(self):\n",
    "\n",
    "        super(deeds, self).__init__()\n",
    "        self.alpha = nn.Parameter(torch.Tensor([1,.1,1,1,.1,1]))#.cuda()\n",
    "\n",
    "        self.pad1 = nn.ReplicationPad3d(3)#.cuda()\n",
    "        self.avg1 = nn.AvgPool3d(3,stride=1)#.cuda()\n",
    "        self.max1 = nn.MaxPool3d(3,stride=1)#.cuda()\n",
    "        self.pad2 = nn.ReplicationPad3d(2)#.cuda()##\n",
    "\n",
    "\n",
    "\n",
    "    def forward(self, feat00,feat50):\n",
    "        \n",
    "        #deeds correlation layer (slightly unrolled)\n",
    "        deeds_cost = torch.zeros(1,grid_size**3,displacement_width,displacement_width,displacement_width)#.cuda()\n",
    "        xyz8 = grid_size**2\n",
    "        for i in range(grid_size): \n",
    "            moving_unfold = F.grid_sample(feat50,grid_xyz[:,i*xyz8:(i+1)*xyz8,:,:,:] + shift_xyz,padding_mode='border')\n",
    "            fixed_grid = F.grid_sample(feat00,grid_xyz[:,i*xyz8:(i+1)*xyz8,:,:,:])\n",
    "            deeds_cost[:,i*xyz8:(i+1)*xyz8,:,:,:] = self.alpha[1]+self.alpha[0]*torch.sum(torch.pow(fixed_grid-moving_unfold,2),1).view(1,-1,displacement_width,displacement_width,displacement_width)\n",
    "\n",
    "        # remove mean (not really necessary)\n",
    "        #deeds_cost = deeds_cost.view(-1,displacement_width**3) - deeds_cost.view(-1,displacement_width**3).mean(1,keepdim=True)[0]\n",
    "        deeds_cost = deeds_cost.view(1,-1,displacement_width,displacement_width,displacement_width)\n",
    "    \n",
    "        # approximate min convolution / displacement compatibility\n",
    "        cost = self.avg1(self.avg1(-self.max1(-self.pad1(deeds_cost))))\n",
    "   \n",
    "        # grid-based mean field inference (one iteration)\n",
    "        cost_permute = cost.permute(2,3,4,0,1).view(1,displacement_width**3,grid_size,grid_size,grid_size)\n",
    "        cost_avg = self.avg1(self.avg1(self.pad2(cost_permute))).permute(0,2,3,4,1).view(1,-1,displacement_width,displacement_width,displacement_width)\n",
    "        \n",
    "        # second path\n",
    "        cost = self.alpha[4]+self.alpha[2]*deeds_cost+self.alpha[3]*cost_avg\n",
    "        cost = self.avg1(self.avg1(-self.max1(-self.pad1(cost))))\n",
    "        # grid-based mean field inference (one iteration)\n",
    "        cost_permute = cost.permute(2,3,4,0,1).view(1,displacement_width**3,grid_size,grid_size,grid_size)\n",
    "        cost_avg = self.avg1(self.avg1(self.pad2(cost_permute))).permute(0,2,3,4,1).view(grid_size**3,displacement_width**3)\n",
    "        #cost = alpha[4]+alpha[2]*deeds_cost+alpha[3]*cost.view(1,-1,displacement_width,displacement_width,displacement_width)\n",
    "        #cost = avg1(avg1(-max1(-pad1(cost))))\n",
    "        \n",
    "        #probabilistic and continuous output\n",
    "        cost_soft = F.softmax(-self.alpha[5]*cost_avg,1)\n",
    "#        pred_xyz = torch.sum(F.softmax(-5self.alpha[2]*cost_avg,1).unsqueeze(2)*shift_xyz.view(1,-1,3),1)\n",
    "        pred_xyz = torch.sum(cost_soft.unsqueeze(2)*shift_xyz.view(1,-1,3),1)\n",
    "\n",
    "\n",
    "\n",
    "        return cost_soft,pred_xyz"
   ]
  },
  {
   "cell_type": "code",
   "execution_count": 21,
   "id": "fc38cf63",
   "metadata": {},
   "outputs": [],
   "source": [
    "net = OBELISK()\n",
    "reg = deeds()"
   ]
  },
  {
   "cell_type": "code",
   "execution_count": 22,
   "id": "7d960f1d",
   "metadata": {},
   "outputs": [
    {
     "data": {
      "text/plain": [
       "odict_keys(['offsets', 'layer0.weight', 'batch0.weight', 'batch0.bias', 'batch0.running_mean', 'batch0.running_var', 'batch0.num_batches_tracked', 'layer1.weight', 'batch1.weight', 'batch1.bias', 'batch1.running_mean', 'batch1.running_var', 'batch1.num_batches_tracked', 'layer2.weight', 'batch2.weight', 'batch2.bias', 'batch2.running_mean', 'batch2.running_var', 'batch2.num_batches_tracked', 'layer3.weight', 'layer3.bias'])"
      ]
     },
     "execution_count": 22,
     "metadata": {},
     "output_type": "execute_result"
    }
   ],
   "source": [
    "net_weights = torch.load(\"models/pdd_net/dense_reg_feat_v01.pth\")\n",
    "net_weights.keys()"
   ]
  },
  {
   "cell_type": "code",
   "execution_count": 23,
   "id": "5d68c078",
   "metadata": {},
   "outputs": [
    {
     "ename": "RuntimeError",
     "evalue": "Error(s) in loading state_dict for OBELISK:\n\tsize mismatch for layer1.weight: copying a param with shape torch.Size([48, 48, 1, 1, 1]) from checkpoint, the shape in current model is torch.Size([96, 192, 1, 1, 1]).\n\tsize mismatch for batch1.weight: copying a param with shape torch.Size([48]) from checkpoint, the shape in current model is torch.Size([96]).\n\tsize mismatch for batch1.bias: copying a param with shape torch.Size([48]) from checkpoint, the shape in current model is torch.Size([96]).\n\tsize mismatch for batch1.running_mean: copying a param with shape torch.Size([48]) from checkpoint, the shape in current model is torch.Size([96]).\n\tsize mismatch for batch1.running_var: copying a param with shape torch.Size([48]) from checkpoint, the shape in current model is torch.Size([96]).\n\tsize mismatch for layer2.weight: copying a param with shape torch.Size([48, 48, 3, 3, 3]) from checkpoint, the shape in current model is torch.Size([96, 96, 3, 3, 3]).\n\tsize mismatch for batch2.weight: copying a param with shape torch.Size([48]) from checkpoint, the shape in current model is torch.Size([96]).\n\tsize mismatch for batch2.bias: copying a param with shape torch.Size([48]) from checkpoint, the shape in current model is torch.Size([96]).\n\tsize mismatch for batch2.running_mean: copying a param with shape torch.Size([48]) from checkpoint, the shape in current model is torch.Size([96]).\n\tsize mismatch for batch2.running_var: copying a param with shape torch.Size([48]) from checkpoint, the shape in current model is torch.Size([96]).\n\tsize mismatch for layer3.weight: copying a param with shape torch.Size([24, 48, 1, 1, 1]) from checkpoint, the shape in current model is torch.Size([24, 96, 1, 1, 1]).",
     "output_type": "error",
     "traceback": [
      "\u001b[0;31m---------------------------------------------------------------------------\u001b[0m",
      "\u001b[0;31mRuntimeError\u001b[0m                              Traceback (most recent call last)",
      "\u001b[0;32m<ipython-input-23-3ad459773f8b>\u001b[0m in \u001b[0;36m<module>\u001b[0;34m\u001b[0m\n\u001b[0;32m----> 1\u001b[0;31m \u001b[0mnet\u001b[0m\u001b[0;34m.\u001b[0m\u001b[0mload_state_dict\u001b[0m\u001b[0;34m(\u001b[0m\u001b[0mnet_weights\u001b[0m\u001b[0;34m)\u001b[0m\u001b[0;34m\u001b[0m\u001b[0;34m\u001b[0m\u001b[0m\n\u001b[0m",
      "\u001b[0;32m~/envs/anaconda3/envs/uni/lib/python3.9/site-packages/torch/nn/modules/module.py\u001b[0m in \u001b[0;36mload_state_dict\u001b[0;34m(self, state_dict, strict)\u001b[0m\n\u001b[1;32m   1221\u001b[0m \u001b[0;34m\u001b[0m\u001b[0m\n\u001b[1;32m   1222\u001b[0m         \u001b[0;32mif\u001b[0m \u001b[0mlen\u001b[0m\u001b[0;34m(\u001b[0m\u001b[0merror_msgs\u001b[0m\u001b[0;34m)\u001b[0m \u001b[0;34m>\u001b[0m \u001b[0;36m0\u001b[0m\u001b[0;34m:\u001b[0m\u001b[0;34m\u001b[0m\u001b[0;34m\u001b[0m\u001b[0m\n\u001b[0;32m-> 1223\u001b[0;31m             raise RuntimeError('Error(s) in loading state_dict for {}:\\n\\t{}'.format(\n\u001b[0m\u001b[1;32m   1224\u001b[0m                                self.__class__.__name__, \"\\n\\t\".join(error_msgs)))\n\u001b[1;32m   1225\u001b[0m         \u001b[0;32mreturn\u001b[0m \u001b[0m_IncompatibleKeys\u001b[0m\u001b[0;34m(\u001b[0m\u001b[0mmissing_keys\u001b[0m\u001b[0;34m,\u001b[0m \u001b[0munexpected_keys\u001b[0m\u001b[0;34m)\u001b[0m\u001b[0;34m\u001b[0m\u001b[0;34m\u001b[0m\u001b[0m\n",
      "\u001b[0;31mRuntimeError\u001b[0m: Error(s) in loading state_dict for OBELISK:\n\tsize mismatch for layer1.weight: copying a param with shape torch.Size([48, 48, 1, 1, 1]) from checkpoint, the shape in current model is torch.Size([96, 192, 1, 1, 1]).\n\tsize mismatch for batch1.weight: copying a param with shape torch.Size([48]) from checkpoint, the shape in current model is torch.Size([96]).\n\tsize mismatch for batch1.bias: copying a param with shape torch.Size([48]) from checkpoint, the shape in current model is torch.Size([96]).\n\tsize mismatch for batch1.running_mean: copying a param with shape torch.Size([48]) from checkpoint, the shape in current model is torch.Size([96]).\n\tsize mismatch for batch1.running_var: copying a param with shape torch.Size([48]) from checkpoint, the shape in current model is torch.Size([96]).\n\tsize mismatch for layer2.weight: copying a param with shape torch.Size([48, 48, 3, 3, 3]) from checkpoint, the shape in current model is torch.Size([96, 96, 3, 3, 3]).\n\tsize mismatch for batch2.weight: copying a param with shape torch.Size([48]) from checkpoint, the shape in current model is torch.Size([96]).\n\tsize mismatch for batch2.bias: copying a param with shape torch.Size([48]) from checkpoint, the shape in current model is torch.Size([96]).\n\tsize mismatch for batch2.running_mean: copying a param with shape torch.Size([48]) from checkpoint, the shape in current model is torch.Size([96]).\n\tsize mismatch for batch2.running_var: copying a param with shape torch.Size([48]) from checkpoint, the shape in current model is torch.Size([96]).\n\tsize mismatch for layer3.weight: copying a param with shape torch.Size([24, 48, 1, 1, 1]) from checkpoint, the shape in current model is torch.Size([24, 96, 1, 1, 1])."
     ]
    }
   ],
   "source": [
    "net.load_state_dict(net_weights)"
   ]
  },
  {
   "cell_type": "code",
   "execution_count": null,
   "id": "51c2616d",
   "metadata": {},
   "outputs": [],
   "source": []
  }
 ],
 "metadata": {
  "kernelspec": {
   "display_name": "Python 3",
   "language": "python",
   "name": "python3"
  },
  "language_info": {
   "codemirror_mode": {
    "name": "ipython",
    "version": 3
   },
   "file_extension": ".py",
   "mimetype": "text/x-python",
   "name": "python",
   "nbconvert_exporter": "python",
   "pygments_lexer": "ipython3",
   "version": "3.9.2"
  }
 },
 "nbformat": 4,
 "nbformat_minor": 5
}
