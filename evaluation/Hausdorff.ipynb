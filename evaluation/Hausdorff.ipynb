{
 "cells": [
  {
   "cell_type": "markdown",
   "id": "dabdc0dc",
   "metadata": {},
   "source": [
    "# HD implementation tests"
   ]
  },
  {
   "cell_type": "code",
   "execution_count": null,
   "id": "a92d4c53",
   "metadata": {},
   "outputs": [],
   "source": [
    "import torch\n",
    "import torch.nn.functional as F\n",
    "from utils.encoding import labelMatrixOneHot\n",
    "\n",
    "import matplotlib.pyplot as plt\n",
    "\n",
    "from skimage.metrics import hausdorff_distance"
   ]
  },
  {
   "cell_type": "code",
   "execution_count": null,
   "id": "b4e15b45",
   "metadata": {},
   "outputs": [],
   "source": [
    "def torch2D_Hausdorff_distance(x,y):\n",
    "    \"\"\"\n",
    "    x,y: tensors of size [BxWxH]\n",
    "    returns max distance between tensors\n",
    "    \n",
    "    function found here: https://github.com/gogoymh/Pytorch-Hausdorff-Distance/blob/main/hausdorff_distance.py\n",
    "    \"\"\"\n",
    "    \n",
    "    x = x.float()\n",
    "    y = y.float()\n",
    "    distance_matrix = torch.cdist(x,y,p=2) # p=2 means Euclidean Distance\n",
    "    print(distance_matrix)\n",
    "    value1 = distance_matrix.min(2)[0].max(1, keepdim=True)[0]\n",
    "    value2 = distance_matrix.min(1)[0].max(1, keepdim=True)[0]\n",
    "\n",
    "    value = torch.cat((value1, value2), dim=1)\n",
    "    \n",
    "    return value.max(1)[0]\n",
    "\n",
    "def hausdorff_dist(outputs, labels, max_label):\n",
    "    \"\"\"\n",
    "    outputs: prediction segmentation [HxW]\n",
    "    labels: ground truth segmentation [HxW]\n",
    "    max_label: int; label of classes including Background \n",
    "    \n",
    "    return: torch.Tensor [num_labels -1] containing the HD between the labels Excluding BG\n",
    "    \"\"\"\n",
    "    dist = torch.FloatTensor(max_label-1).fill_(0)\n",
    "    B,H,W = outputs.shape\n",
    "    \n",
    "    for label in range(1, max_label):\n",
    "        out_flat = (outputs==label).view(B,H,W).float()\n",
    "        gt_flat = (labels==label).view(B,H,W).float()\n",
    "        hd_dist = hausdorff_distance(out_flat.numpy(), gt_flat.numpy())\n",
    "        dist[label-1] = hd_dist\n",
    "    \n",
    "    return dist\n",
    "\n",
    "u = torch.Tensor([[[1.0, 2.0],\n",
    "                   [0.0, 2.0]]])\n",
    "\n",
    "v = torch.Tensor([[[0.0, 0.0],\n",
    "                   [1.0, 2.0]]])\n",
    "\n",
    "#print(\"Input shape is (B,W,H):\", u.shape, v.shape)\n",
    "#HD = torch2D_Hausdorff_distance(u,v)\n",
    "#print(\"Hausdorff Distance is:\", HD)\n",
    "#HD2 = hausdorff_dist(u.squeeze(),v.squeeze(), 3)\n",
    "#print(\"Hausdorff Distance is:\", HD2)"
   ]
  },
  {
   "cell_type": "code",
   "execution_count": null,
   "id": "f912c7b0",
   "metadata": {},
   "outputs": [],
   "source": [
    "segs = torch.load('/share/data_ultraschall/nicke_ma/data/train_segs_disp_6.pth') * 2"
   ]
  },
  {
   "cell_type": "code",
   "execution_count": null,
   "id": "cdc4dd76",
   "metadata": {},
   "outputs": [],
   "source": [
    "fixed_seg = segs[11][0]\n",
    "moving_seg = segs[11][1]"
   ]
  },
  {
   "cell_type": "code",
   "execution_count": null,
   "id": "2e962897",
   "metadata": {},
   "outputs": [],
   "source": [
    "fig, ax = plt.subplots(1,2)\n",
    "ax[0].imshow(fixed_seg)\n",
    "ax[1].imshow(moving_seg)"
   ]
  },
  {
   "cell_type": "code",
   "execution_count": null,
   "id": "423eb2df",
   "metadata": {},
   "outputs": [],
   "source": [
    "fixed_oh = labelMatrixOneHot(fixed_seg.unsqueeze(0), 3)\n",
    "moving_oh = labelMatrixOneHot(moving_seg.unsqueeze(0), 3)\n",
    "\n",
    "print(fixed_oh.shape, moving_oh.shape)\n",
    "print(fixed_seg.shape, moving_seg.shape)"
   ]
  },
  {
   "cell_type": "code",
   "execution_count": null,
   "id": "18eebfab",
   "metadata": {},
   "outputs": [],
   "source": [
    "HD2 = hausdorff_dist(fixed_seg.unsqueeze(0),moving_seg.unsqueeze(0), 3)\n",
    "print(\"Hausdorff Distance is:\", HD2, HD2.mean())"
   ]
  },
  {
   "cell_type": "code",
   "execution_count": null,
   "id": "3ff94f56",
   "metadata": {},
   "outputs": [],
   "source": []
  }
 ],
 "metadata": {
  "kernelspec": {
   "display_name": "Python 3",
   "language": "python",
   "name": "python3"
  },
  "language_info": {
   "codemirror_mode": {
    "name": "ipython",
    "version": 3
   },
   "file_extension": ".py",
   "mimetype": "text/x-python",
   "name": "python",
   "nbconvert_exporter": "python",
   "pygments_lexer": "ipython3",
   "version": "3.8.10"
  }
 },
 "nbformat": 4,
 "nbformat_minor": 5
}
